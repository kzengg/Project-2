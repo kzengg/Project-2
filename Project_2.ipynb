{
  "nbformat": 4,
  "nbformat_minor": 0,
  "metadata": {
    "colab": {
      "name": "Project 2.ipynb",
      "provenance": [],
      "collapsed_sections": [],
      "toc_visible": true,
      "authorship_tag": "ABX9TyPd8Wlov5xxP5e+nD0hMMRN",
      "include_colab_link": true
    },
    "kernelspec": {
      "name": "python3",
      "display_name": "Python 3"
    },
    "language_info": {
      "name": "python"
    }
  },
  "cells": [
    {
      "cell_type": "markdown",
      "metadata": {
        "id": "view-in-github",
        "colab_type": "text"
      },
      "source": [
        "<a href=\"https://colab.research.google.com/github/kzengg/Project-2/blob/main/Project_2.ipynb\" target=\"_parent\"><img src=\"https://colab.research.google.com/assets/colab-badge.svg\" alt=\"Open In Colab\"/></a>"
      ]
    },
    {
      "cell_type": "markdown",
      "source": [
        "#Imports"
      ],
      "metadata": {
        "id": "dV_HdmIYY2KR"
      }
    },
    {
      "cell_type": "code",
      "source": [
        "import pandas as pd\n",
        "import matplotlib.pyplot as plt\n",
        "import seaborn as sns\n",
        "import numpy as np\n",
        "from sklearn.metrics import mean_absolute_error, mean_squared_error, r2_score\n",
        "from sklearn.preprocessing import StandardScaler\n",
        "from sklearn.preprocessing import OneHotEncoder\n",
        "from sklearn.pipeline import make_pipeline\n",
        "from sklearn.compose import make_column_selector, make_column_transformer\n",
        "from sklearn.model_selection import train_test_split, GridSearchCV\n",
        "from sklearn.ensemble import RandomForestRegressor\n",
        "from sklearn.linear_model import LinearRegression\n",
        "from sklearn.neighbors import KNeighborsRegressor\n",
        "from sklearn.decomposition import PCA"
      ],
      "metadata": {
        "id": "bPhXa7zDhmXq"
      },
      "execution_count": 181,
      "outputs": []
    },
    {
      "cell_type": "markdown",
      "source": [
        "#Data Set 1"
      ],
      "metadata": {
        "id": "VhvUCoxOf-hx"
      }
    },
    {
      "cell_type": "markdown",
      "source": [
        "**Source:** https://www.kaggle.com/datasets/karthikbhandary2/property-rentals\n",
        "\n",
        "**Description:** This data set contains data on different properties. It includes details about each property rented, as well as the price charged per night. It includes 9 columns.\n",
        "\n",
        "**Target:** Price per night\n",
        "\n",
        "**Classification/Regression:** Regression\n",
        "\n",
        "**Features:** 5\n",
        "\n",
        "**# of Rows:** 2222\n",
        "\n",
        "**Possible Challenges:** Majority of the data is skewed towards 4 property types. "
      ],
      "metadata": {
        "id": "LZdbhDOogLNG"
      }
    },
    {
      "cell_type": "code",
      "source": [
        "dataset1 = 'https://docs.google.com/spreadsheets/d/e/2PACX-1vQklOtJEwS6tKqnELsZLnmHyHf9l3zakWMlWR5A3_xFaxjJdlT5WjpocMv2Mhay5pxrSX3LFF6aRND7/pub?output=csv'"
      ],
      "metadata": {
        "id": "NB4IEgNlfjts"
      },
      "execution_count": 182,
      "outputs": []
    },
    {
      "cell_type": "markdown",
      "source": [
        "#Dataset Information"
      ],
      "metadata": {
        "id": "HqxbEoyuUH9a"
      }
    },
    {
      "cell_type": "code",
      "source": [
        "df = pd.read_csv(dataset1)\n",
        "df.head()"
      ],
      "metadata": {
        "colab": {
          "base_uri": "https://localhost:8080/",
          "height": 206
        },
        "id": "QMbZx4I5hocz",
        "outputId": "fac95c32-576b-4a55-cea8-ec555abeb377"
      },
      "execution_count": 183,
      "outputs": [
        {
          "output_type": "execute_result",
          "data": {
            "text/plain": [
              "     id  latitude  longitude property_type        room_type  bathrooms  \\\n",
              "0   958  37.76931 -122.43386     Apartment  Entire home/apt        1.0   \n",
              "1  3850  37.75402 -122.45805         House     Private room        1.0   \n",
              "2  5858  37.74511 -122.42102     Apartment  Entire home/apt        1.0   \n",
              "3  7918  37.76669 -122.45250     Apartment     Private room        4.0   \n",
              "4  8142  37.76487 -122.45183     Apartment     Private room        4.0   \n",
              "\n",
              "   bedrooms  minimum_nights    price  \n",
              "0       1.0               1  $170.00  \n",
              "1       1.0               1   $99.00  \n",
              "2       2.0              30  $235.00  \n",
              "3       1.0              32   $65.00  \n",
              "4       1.0              32   $65.00  "
            ],
            "text/html": [
              "\n",
              "  <div id=\"df-1675baad-29de-4c38-b318-bb47751e0e46\">\n",
              "    <div class=\"colab-df-container\">\n",
              "      <div>\n",
              "<style scoped>\n",
              "    .dataframe tbody tr th:only-of-type {\n",
              "        vertical-align: middle;\n",
              "    }\n",
              "\n",
              "    .dataframe tbody tr th {\n",
              "        vertical-align: top;\n",
              "    }\n",
              "\n",
              "    .dataframe thead th {\n",
              "        text-align: right;\n",
              "    }\n",
              "</style>\n",
              "<table border=\"1\" class=\"dataframe\">\n",
              "  <thead>\n",
              "    <tr style=\"text-align: right;\">\n",
              "      <th></th>\n",
              "      <th>id</th>\n",
              "      <th>latitude</th>\n",
              "      <th>longitude</th>\n",
              "      <th>property_type</th>\n",
              "      <th>room_type</th>\n",
              "      <th>bathrooms</th>\n",
              "      <th>bedrooms</th>\n",
              "      <th>minimum_nights</th>\n",
              "      <th>price</th>\n",
              "    </tr>\n",
              "  </thead>\n",
              "  <tbody>\n",
              "    <tr>\n",
              "      <th>0</th>\n",
              "      <td>958</td>\n",
              "      <td>37.76931</td>\n",
              "      <td>-122.43386</td>\n",
              "      <td>Apartment</td>\n",
              "      <td>Entire home/apt</td>\n",
              "      <td>1.0</td>\n",
              "      <td>1.0</td>\n",
              "      <td>1</td>\n",
              "      <td>$170.00</td>\n",
              "    </tr>\n",
              "    <tr>\n",
              "      <th>1</th>\n",
              "      <td>3850</td>\n",
              "      <td>37.75402</td>\n",
              "      <td>-122.45805</td>\n",
              "      <td>House</td>\n",
              "      <td>Private room</td>\n",
              "      <td>1.0</td>\n",
              "      <td>1.0</td>\n",
              "      <td>1</td>\n",
              "      <td>$99.00</td>\n",
              "    </tr>\n",
              "    <tr>\n",
              "      <th>2</th>\n",
              "      <td>5858</td>\n",
              "      <td>37.74511</td>\n",
              "      <td>-122.42102</td>\n",
              "      <td>Apartment</td>\n",
              "      <td>Entire home/apt</td>\n",
              "      <td>1.0</td>\n",
              "      <td>2.0</td>\n",
              "      <td>30</td>\n",
              "      <td>$235.00</td>\n",
              "    </tr>\n",
              "    <tr>\n",
              "      <th>3</th>\n",
              "      <td>7918</td>\n",
              "      <td>37.76669</td>\n",
              "      <td>-122.45250</td>\n",
              "      <td>Apartment</td>\n",
              "      <td>Private room</td>\n",
              "      <td>4.0</td>\n",
              "      <td>1.0</td>\n",
              "      <td>32</td>\n",
              "      <td>$65.00</td>\n",
              "    </tr>\n",
              "    <tr>\n",
              "      <th>4</th>\n",
              "      <td>8142</td>\n",
              "      <td>37.76487</td>\n",
              "      <td>-122.45183</td>\n",
              "      <td>Apartment</td>\n",
              "      <td>Private room</td>\n",
              "      <td>4.0</td>\n",
              "      <td>1.0</td>\n",
              "      <td>32</td>\n",
              "      <td>$65.00</td>\n",
              "    </tr>\n",
              "  </tbody>\n",
              "</table>\n",
              "</div>\n",
              "      <button class=\"colab-df-convert\" onclick=\"convertToInteractive('df-1675baad-29de-4c38-b318-bb47751e0e46')\"\n",
              "              title=\"Convert this dataframe to an interactive table.\"\n",
              "              style=\"display:none;\">\n",
              "        \n",
              "  <svg xmlns=\"http://www.w3.org/2000/svg\" height=\"24px\"viewBox=\"0 0 24 24\"\n",
              "       width=\"24px\">\n",
              "    <path d=\"M0 0h24v24H0V0z\" fill=\"none\"/>\n",
              "    <path d=\"M18.56 5.44l.94 2.06.94-2.06 2.06-.94-2.06-.94-.94-2.06-.94 2.06-2.06.94zm-11 1L8.5 8.5l.94-2.06 2.06-.94-2.06-.94L8.5 2.5l-.94 2.06-2.06.94zm10 10l.94 2.06.94-2.06 2.06-.94-2.06-.94-.94-2.06-.94 2.06-2.06.94z\"/><path d=\"M17.41 7.96l-1.37-1.37c-.4-.4-.92-.59-1.43-.59-.52 0-1.04.2-1.43.59L10.3 9.45l-7.72 7.72c-.78.78-.78 2.05 0 2.83L4 21.41c.39.39.9.59 1.41.59.51 0 1.02-.2 1.41-.59l7.78-7.78 2.81-2.81c.8-.78.8-2.07 0-2.86zM5.41 20L4 18.59l7.72-7.72 1.47 1.35L5.41 20z\"/>\n",
              "  </svg>\n",
              "      </button>\n",
              "      \n",
              "  <style>\n",
              "    .colab-df-container {\n",
              "      display:flex;\n",
              "      flex-wrap:wrap;\n",
              "      gap: 12px;\n",
              "    }\n",
              "\n",
              "    .colab-df-convert {\n",
              "      background-color: #E8F0FE;\n",
              "      border: none;\n",
              "      border-radius: 50%;\n",
              "      cursor: pointer;\n",
              "      display: none;\n",
              "      fill: #1967D2;\n",
              "      height: 32px;\n",
              "      padding: 0 0 0 0;\n",
              "      width: 32px;\n",
              "    }\n",
              "\n",
              "    .colab-df-convert:hover {\n",
              "      background-color: #E2EBFA;\n",
              "      box-shadow: 0px 1px 2px rgba(60, 64, 67, 0.3), 0px 1px 3px 1px rgba(60, 64, 67, 0.15);\n",
              "      fill: #174EA6;\n",
              "    }\n",
              "\n",
              "    [theme=dark] .colab-df-convert {\n",
              "      background-color: #3B4455;\n",
              "      fill: #D2E3FC;\n",
              "    }\n",
              "\n",
              "    [theme=dark] .colab-df-convert:hover {\n",
              "      background-color: #434B5C;\n",
              "      box-shadow: 0px 1px 3px 1px rgba(0, 0, 0, 0.15);\n",
              "      filter: drop-shadow(0px 1px 2px rgba(0, 0, 0, 0.3));\n",
              "      fill: #FFFFFF;\n",
              "    }\n",
              "  </style>\n",
              "\n",
              "      <script>\n",
              "        const buttonEl =\n",
              "          document.querySelector('#df-1675baad-29de-4c38-b318-bb47751e0e46 button.colab-df-convert');\n",
              "        buttonEl.style.display =\n",
              "          google.colab.kernel.accessAllowed ? 'block' : 'none';\n",
              "\n",
              "        async function convertToInteractive(key) {\n",
              "          const element = document.querySelector('#df-1675baad-29de-4c38-b318-bb47751e0e46');\n",
              "          const dataTable =\n",
              "            await google.colab.kernel.invokeFunction('convertToInteractive',\n",
              "                                                     [key], {});\n",
              "          if (!dataTable) return;\n",
              "\n",
              "          const docLinkHtml = 'Like what you see? Visit the ' +\n",
              "            '<a target=\"_blank\" href=https://colab.research.google.com/notebooks/data_table.ipynb>data table notebook</a>'\n",
              "            + ' to learn more about interactive tables.';\n",
              "          element.innerHTML = '';\n",
              "          dataTable['output_type'] = 'display_data';\n",
              "          await google.colab.output.renderOutput(dataTable, element);\n",
              "          const docLink = document.createElement('div');\n",
              "          docLink.innerHTML = docLinkHtml;\n",
              "          element.appendChild(docLink);\n",
              "        }\n",
              "      </script>\n",
              "    </div>\n",
              "  </div>\n",
              "  "
            ]
          },
          "metadata": {},
          "execution_count": 183
        }
      ]
    },
    {
      "cell_type": "code",
      "source": [
        "df.info()"
      ],
      "metadata": {
        "colab": {
          "base_uri": "https://localhost:8080/"
        },
        "id": "_8AAxyk6iQso",
        "outputId": "89d2ba11-0cf7-4777-ee33-581ee0943f09"
      },
      "execution_count": 184,
      "outputs": [
        {
          "output_type": "stream",
          "name": "stdout",
          "text": [
            "<class 'pandas.core.frame.DataFrame'>\n",
            "RangeIndex: 2222 entries, 0 to 2221\n",
            "Data columns (total 9 columns):\n",
            " #   Column          Non-Null Count  Dtype  \n",
            "---  ------          --------------  -----  \n",
            " 0   id              2222 non-null   int64  \n",
            " 1   latitude        2222 non-null   float64\n",
            " 2   longitude       2222 non-null   float64\n",
            " 3   property_type   2222 non-null   object \n",
            " 4   room_type       2222 non-null   object \n",
            " 5   bathrooms       2211 non-null   float64\n",
            " 6   bedrooms        2221 non-null   float64\n",
            " 7   minimum_nights  2222 non-null   int64  \n",
            " 8   price           2222 non-null   object \n",
            "dtypes: float64(4), int64(2), object(3)\n",
            "memory usage: 156.4+ KB\n"
          ]
        }
      ]
    },
    {
      "cell_type": "code",
      "source": [
        "#checking for consistencies\n",
        "df['room_type'].value_counts()"
      ],
      "metadata": {
        "colab": {
          "base_uri": "https://localhost:8080/"
        },
        "id": "U4BMu8SciCIZ",
        "outputId": "9777eff8-cd63-463b-b7ae-ae6de03a24c1"
      },
      "execution_count": 185,
      "outputs": [
        {
          "output_type": "execute_result",
          "data": {
            "text/plain": [
              "Entire home/apt    1383\n",
              "Private room        778\n",
              "Shared room          53\n",
              "Hotel room            8\n",
              "Name: room_type, dtype: int64"
            ]
          },
          "metadata": {},
          "execution_count": 185
        }
      ]
    },
    {
      "cell_type": "code",
      "source": [
        "#check for duplicates\n",
        "df.duplicated().sum()"
      ],
      "metadata": {
        "colab": {
          "base_uri": "https://localhost:8080/"
        },
        "id": "ABLYvXqqT_la",
        "outputId": "a30561fd-2814-43e4-98e2-f7a8a28a52d7"
      },
      "execution_count": 186,
      "outputs": [
        {
          "output_type": "execute_result",
          "data": {
            "text/plain": [
              "0"
            ]
          },
          "metadata": {},
          "execution_count": 186
        }
      ]
    },
    {
      "cell_type": "code",
      "source": [
        "#checking for missing\n",
        "df.isna().sum()"
      ],
      "metadata": {
        "colab": {
          "base_uri": "https://localhost:8080/"
        },
        "id": "Tcpz5zhoUSp_",
        "outputId": "28c28bbe-2922-494a-8f78-a9eca1f59c7c"
      },
      "execution_count": 187,
      "outputs": [
        {
          "output_type": "execute_result",
          "data": {
            "text/plain": [
              "id                 0\n",
              "latitude           0\n",
              "longitude          0\n",
              "property_type      0\n",
              "room_type          0\n",
              "bathrooms         11\n",
              "bedrooms           1\n",
              "minimum_nights     0\n",
              "price              0\n",
              "dtype: int64"
            ]
          },
          "metadata": {},
          "execution_count": 187
        }
      ]
    },
    {
      "cell_type": "code",
      "source": [
        "#view the data where null is true\n",
        "print(df[df['bathrooms'].isnull()])"
      ],
      "metadata": {
        "colab": {
          "base_uri": "https://localhost:8080/"
        },
        "id": "j44EsJ19UdkR",
        "outputId": "e5c2a124-547c-4883-c182-a81159c7de80"
      },
      "execution_count": 188,
      "outputs": [
        {
          "output_type": "stream",
          "name": "stdout",
          "text": [
            "          id  latitude  longitude property_type        room_type  bathrooms  \\\n",
            "139   144978  37.79336 -122.42506     Apartment     Private room        NaN   \n",
            "181   229240  37.79341 -122.40340        Hostel      Shared room        NaN   \n",
            "196   259621  37.79470 -122.40374        Hostel      Shared room        NaN   \n",
            "197   259622  37.79441 -122.40473        Hostel      Shared room        NaN   \n",
            "267   430692  37.75906 -122.40761     Apartment     Private room        NaN   \n",
            "352   596042  37.79384 -122.42436     Apartment     Private room        NaN   \n",
            "434   785901  37.79313 -122.40443        Hostel      Shared room        NaN   \n",
            "435   786492  37.79421 -122.40310        Hostel      Shared room        NaN   \n",
            "436   786506  37.79260 -122.40339        Hostel      Shared room        NaN   \n",
            "539  1031899  37.74833 -122.42621     Apartment  Entire home/apt        NaN   \n",
            "606  1206233  37.77028 -122.44757     Apartment     Private room        NaN   \n",
            "\n",
            "     bedrooms  minimum_nights    price  \n",
            "139       1.0              30   $56.00  \n",
            "181       1.0               1   $45.00  \n",
            "196       1.0               1   $45.00  \n",
            "197       1.0               1   $45.00  \n",
            "267       1.0              31   $68.00  \n",
            "352       1.0              30   $63.00  \n",
            "434       1.0               1   $45.00  \n",
            "435       1.0               1   $45.00  \n",
            "436       1.0               1   $45.00  \n",
            "539       1.0              30  $127.00  \n",
            "606       1.0               1   $79.00  \n"
          ]
        }
      ]
    },
    {
      "cell_type": "markdown",
      "source": [
        "#Cleaning Up Data"
      ],
      "metadata": {
        "id": "ipMMqrl6VysY"
      }
    },
    {
      "cell_type": "code",
      "source": [
        "#Based on my observation on property type, missing values for bathrooms and bedrooms are meant to be 0. \n",
        "df['bathrooms'].fillna(value = 0, inplace = True)\n",
        "df['bedrooms'].fillna(value = 0, inplace = True)\n",
        "df.isna().sum()"
      ],
      "metadata": {
        "colab": {
          "base_uri": "https://localhost:8080/"
        },
        "id": "SROERKheV1Rq",
        "outputId": "b83096a1-1a10-4ce4-c28d-b11245614cf8"
      },
      "execution_count": 189,
      "outputs": [
        {
          "output_type": "execute_result",
          "data": {
            "text/plain": [
              "id                0\n",
              "latitude          0\n",
              "longitude         0\n",
              "property_type     0\n",
              "room_type         0\n",
              "bathrooms         0\n",
              "bedrooms          0\n",
              "minimum_nights    0\n",
              "price             0\n",
              "dtype: int64"
            ]
          },
          "metadata": {},
          "execution_count": 189
        }
      ]
    },
    {
      "cell_type": "code",
      "source": [
        "#ID, Latitude, Longitude will not have any value for ML models\n",
        "df.drop(['id','latitude','longitude'], axis=1, inplace=True)\n",
        "df.head()"
      ],
      "metadata": {
        "colab": {
          "base_uri": "https://localhost:8080/",
          "height": 206
        },
        "id": "dXguffJkWlYb",
        "outputId": "f1bb49a8-5331-452c-97e4-7c1f6282f733"
      },
      "execution_count": 190,
      "outputs": [
        {
          "output_type": "execute_result",
          "data": {
            "text/plain": [
              "  property_type        room_type  bathrooms  bedrooms  minimum_nights    price\n",
              "0     Apartment  Entire home/apt        1.0       1.0               1  $170.00\n",
              "1         House     Private room        1.0       1.0               1   $99.00\n",
              "2     Apartment  Entire home/apt        1.0       2.0              30  $235.00\n",
              "3     Apartment     Private room        4.0       1.0              32   $65.00\n",
              "4     Apartment     Private room        4.0       1.0              32   $65.00"
            ],
            "text/html": [
              "\n",
              "  <div id=\"df-a72768ac-caaa-4bf5-af70-af0fbb00c422\">\n",
              "    <div class=\"colab-df-container\">\n",
              "      <div>\n",
              "<style scoped>\n",
              "    .dataframe tbody tr th:only-of-type {\n",
              "        vertical-align: middle;\n",
              "    }\n",
              "\n",
              "    .dataframe tbody tr th {\n",
              "        vertical-align: top;\n",
              "    }\n",
              "\n",
              "    .dataframe thead th {\n",
              "        text-align: right;\n",
              "    }\n",
              "</style>\n",
              "<table border=\"1\" class=\"dataframe\">\n",
              "  <thead>\n",
              "    <tr style=\"text-align: right;\">\n",
              "      <th></th>\n",
              "      <th>property_type</th>\n",
              "      <th>room_type</th>\n",
              "      <th>bathrooms</th>\n",
              "      <th>bedrooms</th>\n",
              "      <th>minimum_nights</th>\n",
              "      <th>price</th>\n",
              "    </tr>\n",
              "  </thead>\n",
              "  <tbody>\n",
              "    <tr>\n",
              "      <th>0</th>\n",
              "      <td>Apartment</td>\n",
              "      <td>Entire home/apt</td>\n",
              "      <td>1.0</td>\n",
              "      <td>1.0</td>\n",
              "      <td>1</td>\n",
              "      <td>$170.00</td>\n",
              "    </tr>\n",
              "    <tr>\n",
              "      <th>1</th>\n",
              "      <td>House</td>\n",
              "      <td>Private room</td>\n",
              "      <td>1.0</td>\n",
              "      <td>1.0</td>\n",
              "      <td>1</td>\n",
              "      <td>$99.00</td>\n",
              "    </tr>\n",
              "    <tr>\n",
              "      <th>2</th>\n",
              "      <td>Apartment</td>\n",
              "      <td>Entire home/apt</td>\n",
              "      <td>1.0</td>\n",
              "      <td>2.0</td>\n",
              "      <td>30</td>\n",
              "      <td>$235.00</td>\n",
              "    </tr>\n",
              "    <tr>\n",
              "      <th>3</th>\n",
              "      <td>Apartment</td>\n",
              "      <td>Private room</td>\n",
              "      <td>4.0</td>\n",
              "      <td>1.0</td>\n",
              "      <td>32</td>\n",
              "      <td>$65.00</td>\n",
              "    </tr>\n",
              "    <tr>\n",
              "      <th>4</th>\n",
              "      <td>Apartment</td>\n",
              "      <td>Private room</td>\n",
              "      <td>4.0</td>\n",
              "      <td>1.0</td>\n",
              "      <td>32</td>\n",
              "      <td>$65.00</td>\n",
              "    </tr>\n",
              "  </tbody>\n",
              "</table>\n",
              "</div>\n",
              "      <button class=\"colab-df-convert\" onclick=\"convertToInteractive('df-a72768ac-caaa-4bf5-af70-af0fbb00c422')\"\n",
              "              title=\"Convert this dataframe to an interactive table.\"\n",
              "              style=\"display:none;\">\n",
              "        \n",
              "  <svg xmlns=\"http://www.w3.org/2000/svg\" height=\"24px\"viewBox=\"0 0 24 24\"\n",
              "       width=\"24px\">\n",
              "    <path d=\"M0 0h24v24H0V0z\" fill=\"none\"/>\n",
              "    <path d=\"M18.56 5.44l.94 2.06.94-2.06 2.06-.94-2.06-.94-.94-2.06-.94 2.06-2.06.94zm-11 1L8.5 8.5l.94-2.06 2.06-.94-2.06-.94L8.5 2.5l-.94 2.06-2.06.94zm10 10l.94 2.06.94-2.06 2.06-.94-2.06-.94-.94-2.06-.94 2.06-2.06.94z\"/><path d=\"M17.41 7.96l-1.37-1.37c-.4-.4-.92-.59-1.43-.59-.52 0-1.04.2-1.43.59L10.3 9.45l-7.72 7.72c-.78.78-.78 2.05 0 2.83L4 21.41c.39.39.9.59 1.41.59.51 0 1.02-.2 1.41-.59l7.78-7.78 2.81-2.81c.8-.78.8-2.07 0-2.86zM5.41 20L4 18.59l7.72-7.72 1.47 1.35L5.41 20z\"/>\n",
              "  </svg>\n",
              "      </button>\n",
              "      \n",
              "  <style>\n",
              "    .colab-df-container {\n",
              "      display:flex;\n",
              "      flex-wrap:wrap;\n",
              "      gap: 12px;\n",
              "    }\n",
              "\n",
              "    .colab-df-convert {\n",
              "      background-color: #E8F0FE;\n",
              "      border: none;\n",
              "      border-radius: 50%;\n",
              "      cursor: pointer;\n",
              "      display: none;\n",
              "      fill: #1967D2;\n",
              "      height: 32px;\n",
              "      padding: 0 0 0 0;\n",
              "      width: 32px;\n",
              "    }\n",
              "\n",
              "    .colab-df-convert:hover {\n",
              "      background-color: #E2EBFA;\n",
              "      box-shadow: 0px 1px 2px rgba(60, 64, 67, 0.3), 0px 1px 3px 1px rgba(60, 64, 67, 0.15);\n",
              "      fill: #174EA6;\n",
              "    }\n",
              "\n",
              "    [theme=dark] .colab-df-convert {\n",
              "      background-color: #3B4455;\n",
              "      fill: #D2E3FC;\n",
              "    }\n",
              "\n",
              "    [theme=dark] .colab-df-convert:hover {\n",
              "      background-color: #434B5C;\n",
              "      box-shadow: 0px 1px 3px 1px rgba(0, 0, 0, 0.15);\n",
              "      filter: drop-shadow(0px 1px 2px rgba(0, 0, 0, 0.3));\n",
              "      fill: #FFFFFF;\n",
              "    }\n",
              "  </style>\n",
              "\n",
              "      <script>\n",
              "        const buttonEl =\n",
              "          document.querySelector('#df-a72768ac-caaa-4bf5-af70-af0fbb00c422 button.colab-df-convert');\n",
              "        buttonEl.style.display =\n",
              "          google.colab.kernel.accessAllowed ? 'block' : 'none';\n",
              "\n",
              "        async function convertToInteractive(key) {\n",
              "          const element = document.querySelector('#df-a72768ac-caaa-4bf5-af70-af0fbb00c422');\n",
              "          const dataTable =\n",
              "            await google.colab.kernel.invokeFunction('convertToInteractive',\n",
              "                                                     [key], {});\n",
              "          if (!dataTable) return;\n",
              "\n",
              "          const docLinkHtml = 'Like what you see? Visit the ' +\n",
              "            '<a target=\"_blank\" href=https://colab.research.google.com/notebooks/data_table.ipynb>data table notebook</a>'\n",
              "            + ' to learn more about interactive tables.';\n",
              "          element.innerHTML = '';\n",
              "          dataTable['output_type'] = 'display_data';\n",
              "          await google.colab.output.renderOutput(dataTable, element);\n",
              "          const docLink = document.createElement('div');\n",
              "          docLink.innerHTML = docLinkHtml;\n",
              "          element.appendChild(docLink);\n",
              "        }\n",
              "      </script>\n",
              "    </div>\n",
              "  </div>\n",
              "  "
            ]
          },
          "metadata": {},
          "execution_count": 190
        }
      ]
    },
    {
      "cell_type": "code",
      "source": [
        "#some of the price values were in quotations which prevented conversion from string to float\n",
        "df['price'] = df['price'].apply(lambda x: x.replace('\"', ''))\n",
        "#Source: https://stackabuse.com/bytes/remove-quotes-from-all-rows-in-dataframe-column/"
      ],
      "metadata": {
        "id": "fG5gy7LTgC2R"
      },
      "execution_count": 191,
      "outputs": []
    },
    {
      "cell_type": "code",
      "source": [
        "df[df['minimum_nights'] == 365]"
      ],
      "metadata": {
        "colab": {
          "base_uri": "https://localhost:8080/",
          "height": 238
        },
        "id": "o7i20QRFjD9j",
        "outputId": "13f4b06f-cfa6-4fd5-bfa6-7c5458eb51e4"
      },
      "execution_count": 192,
      "outputs": [
        {
          "output_type": "execute_result",
          "data": {
            "text/plain": [
              "     property_type        room_type  bathrooms  bedrooms  minimum_nights  \\\n",
              "57       Apartment  Entire home/apt        1.0       2.0             365   \n",
              "312      Apartment  Entire home/apt        1.0       1.0             365   \n",
              "555           Loft  Entire home/apt        1.5       1.0             365   \n",
              "637      Apartment  Entire home/apt        2.0       3.0             365   \n",
              "1349     Apartment  Entire home/apt        2.5       3.0             365   \n",
              "2018     Apartment  Entire home/apt        2.0       1.0             365   \n",
              "\n",
              "           price  \n",
              "57    $9,999.00   \n",
              "312      $200.00  \n",
              "555      $180.00  \n",
              "637      $200.00  \n",
              "1349     $296.00  \n",
              "2018     $160.00  "
            ],
            "text/html": [
              "\n",
              "  <div id=\"df-256b7d60-7c42-48db-abba-fec016f64d1f\">\n",
              "    <div class=\"colab-df-container\">\n",
              "      <div>\n",
              "<style scoped>\n",
              "    .dataframe tbody tr th:only-of-type {\n",
              "        vertical-align: middle;\n",
              "    }\n",
              "\n",
              "    .dataframe tbody tr th {\n",
              "        vertical-align: top;\n",
              "    }\n",
              "\n",
              "    .dataframe thead th {\n",
              "        text-align: right;\n",
              "    }\n",
              "</style>\n",
              "<table border=\"1\" class=\"dataframe\">\n",
              "  <thead>\n",
              "    <tr style=\"text-align: right;\">\n",
              "      <th></th>\n",
              "      <th>property_type</th>\n",
              "      <th>room_type</th>\n",
              "      <th>bathrooms</th>\n",
              "      <th>bedrooms</th>\n",
              "      <th>minimum_nights</th>\n",
              "      <th>price</th>\n",
              "    </tr>\n",
              "  </thead>\n",
              "  <tbody>\n",
              "    <tr>\n",
              "      <th>57</th>\n",
              "      <td>Apartment</td>\n",
              "      <td>Entire home/apt</td>\n",
              "      <td>1.0</td>\n",
              "      <td>2.0</td>\n",
              "      <td>365</td>\n",
              "      <td>$9,999.00</td>\n",
              "    </tr>\n",
              "    <tr>\n",
              "      <th>312</th>\n",
              "      <td>Apartment</td>\n",
              "      <td>Entire home/apt</td>\n",
              "      <td>1.0</td>\n",
              "      <td>1.0</td>\n",
              "      <td>365</td>\n",
              "      <td>$200.00</td>\n",
              "    </tr>\n",
              "    <tr>\n",
              "      <th>555</th>\n",
              "      <td>Loft</td>\n",
              "      <td>Entire home/apt</td>\n",
              "      <td>1.5</td>\n",
              "      <td>1.0</td>\n",
              "      <td>365</td>\n",
              "      <td>$180.00</td>\n",
              "    </tr>\n",
              "    <tr>\n",
              "      <th>637</th>\n",
              "      <td>Apartment</td>\n",
              "      <td>Entire home/apt</td>\n",
              "      <td>2.0</td>\n",
              "      <td>3.0</td>\n",
              "      <td>365</td>\n",
              "      <td>$200.00</td>\n",
              "    </tr>\n",
              "    <tr>\n",
              "      <th>1349</th>\n",
              "      <td>Apartment</td>\n",
              "      <td>Entire home/apt</td>\n",
              "      <td>2.5</td>\n",
              "      <td>3.0</td>\n",
              "      <td>365</td>\n",
              "      <td>$296.00</td>\n",
              "    </tr>\n",
              "    <tr>\n",
              "      <th>2018</th>\n",
              "      <td>Apartment</td>\n",
              "      <td>Entire home/apt</td>\n",
              "      <td>2.0</td>\n",
              "      <td>1.0</td>\n",
              "      <td>365</td>\n",
              "      <td>$160.00</td>\n",
              "    </tr>\n",
              "  </tbody>\n",
              "</table>\n",
              "</div>\n",
              "      <button class=\"colab-df-convert\" onclick=\"convertToInteractive('df-256b7d60-7c42-48db-abba-fec016f64d1f')\"\n",
              "              title=\"Convert this dataframe to an interactive table.\"\n",
              "              style=\"display:none;\">\n",
              "        \n",
              "  <svg xmlns=\"http://www.w3.org/2000/svg\" height=\"24px\"viewBox=\"0 0 24 24\"\n",
              "       width=\"24px\">\n",
              "    <path d=\"M0 0h24v24H0V0z\" fill=\"none\"/>\n",
              "    <path d=\"M18.56 5.44l.94 2.06.94-2.06 2.06-.94-2.06-.94-.94-2.06-.94 2.06-2.06.94zm-11 1L8.5 8.5l.94-2.06 2.06-.94-2.06-.94L8.5 2.5l-.94 2.06-2.06.94zm10 10l.94 2.06.94-2.06 2.06-.94-2.06-.94-.94-2.06-.94 2.06-2.06.94z\"/><path d=\"M17.41 7.96l-1.37-1.37c-.4-.4-.92-.59-1.43-.59-.52 0-1.04.2-1.43.59L10.3 9.45l-7.72 7.72c-.78.78-.78 2.05 0 2.83L4 21.41c.39.39.9.59 1.41.59.51 0 1.02-.2 1.41-.59l7.78-7.78 2.81-2.81c.8-.78.8-2.07 0-2.86zM5.41 20L4 18.59l7.72-7.72 1.47 1.35L5.41 20z\"/>\n",
              "  </svg>\n",
              "      </button>\n",
              "      \n",
              "  <style>\n",
              "    .colab-df-container {\n",
              "      display:flex;\n",
              "      flex-wrap:wrap;\n",
              "      gap: 12px;\n",
              "    }\n",
              "\n",
              "    .colab-df-convert {\n",
              "      background-color: #E8F0FE;\n",
              "      border: none;\n",
              "      border-radius: 50%;\n",
              "      cursor: pointer;\n",
              "      display: none;\n",
              "      fill: #1967D2;\n",
              "      height: 32px;\n",
              "      padding: 0 0 0 0;\n",
              "      width: 32px;\n",
              "    }\n",
              "\n",
              "    .colab-df-convert:hover {\n",
              "      background-color: #E2EBFA;\n",
              "      box-shadow: 0px 1px 2px rgba(60, 64, 67, 0.3), 0px 1px 3px 1px rgba(60, 64, 67, 0.15);\n",
              "      fill: #174EA6;\n",
              "    }\n",
              "\n",
              "    [theme=dark] .colab-df-convert {\n",
              "      background-color: #3B4455;\n",
              "      fill: #D2E3FC;\n",
              "    }\n",
              "\n",
              "    [theme=dark] .colab-df-convert:hover {\n",
              "      background-color: #434B5C;\n",
              "      box-shadow: 0px 1px 3px 1px rgba(0, 0, 0, 0.15);\n",
              "      filter: drop-shadow(0px 1px 2px rgba(0, 0, 0, 0.3));\n",
              "      fill: #FFFFFF;\n",
              "    }\n",
              "  </style>\n",
              "\n",
              "      <script>\n",
              "        const buttonEl =\n",
              "          document.querySelector('#df-256b7d60-7c42-48db-abba-fec016f64d1f button.colab-df-convert');\n",
              "        buttonEl.style.display =\n",
              "          google.colab.kernel.accessAllowed ? 'block' : 'none';\n",
              "\n",
              "        async function convertToInteractive(key) {\n",
              "          const element = document.querySelector('#df-256b7d60-7c42-48db-abba-fec016f64d1f');\n",
              "          const dataTable =\n",
              "            await google.colab.kernel.invokeFunction('convertToInteractive',\n",
              "                                                     [key], {});\n",
              "          if (!dataTable) return;\n",
              "\n",
              "          const docLinkHtml = 'Like what you see? Visit the ' +\n",
              "            '<a target=\"_blank\" href=https://colab.research.google.com/notebooks/data_table.ipynb>data table notebook</a>'\n",
              "            + ' to learn more about interactive tables.';\n",
              "          element.innerHTML = '';\n",
              "          dataTable['output_type'] = 'display_data';\n",
              "          await google.colab.output.renderOutput(dataTable, element);\n",
              "          const docLink = document.createElement('div');\n",
              "          docLink.innerHTML = docLinkHtml;\n",
              "          element.appendChild(docLink);\n",
              "        }\n",
              "      </script>\n",
              "    </div>\n",
              "  </div>\n",
              "  "
            ]
          },
          "metadata": {},
          "execution_count": 192
        }
      ]
    },
    {
      "cell_type": "code",
      "source": [
        "#converting price (string) to float.\n",
        "df['price']=df['price'].replace( '''[\\$,)]''','', regex=True).astype(float)"
      ],
      "metadata": {
        "id": "Mk4JoUXDajT8"
      },
      "execution_count": 193,
      "outputs": []
    },
    {
      "cell_type": "markdown",
      "source": [
        "#Visuals"
      ],
      "metadata": {
        "id": "cxDu5VANYNFY"
      }
    },
    {
      "cell_type": "code",
      "source": [
        "df['property_type'].hist()\n",
        "plt.xticks(rotation = 90);"
      ],
      "metadata": {
        "colab": {
          "base_uri": "https://localhost:8080/",
          "height": 354
        },
        "id": "eIvwIDcaGQEz",
        "outputId": "10687dd5-bbc5-40a6-eb80-802f28cbe1e6"
      },
      "execution_count": 194,
      "outputs": [
        {
          "output_type": "display_data",
          "data": {
            "text/plain": [
              "<Figure size 432x288 with 1 Axes>"
            ],
            "image/png": "[encoded data removed]"
          },
          "metadata": {
            "needs_background": "light"
          }
        }
      ]
    },
    {
      "cell_type": "code",
      "source": [
        "df['room_type'].hist()\n",
        "plt.xticks(rotation = 45);"
      ],
      "metadata": {
        "colab": {
          "base_uri": "https://localhost:8080/",
          "height": 319
        },
        "id": "LFLUP_GkIUTv",
        "outputId": "126d9b4d-e1ea-4e2f-99d5-2ce8c56fea34"
      },
      "execution_count": 195,
      "outputs": [
        {
          "output_type": "display_data",
          "data": {
            "text/plain": [
              "<Figure size 432x288 with 1 Axes>"
            ],
            "image/png": "[encoded data removed]"
          },
          "metadata": {
            "needs_background": "light"
          }
        }
      ]
    },
    {
      "cell_type": "code",
      "source": [
        "df.boxplot(column='bathrooms')\n",
        "print(f'>2 bathrooms appears to be outliers.')"
      ],
      "metadata": {
        "colab": {
          "base_uri": "https://localhost:8080/",
          "height": 283
        },
        "id": "Wy5y4sz8IbdB",
        "outputId": "f6566e54-bfaa-4598-aa14-55339c01d434"
      },
      "execution_count": 196,
      "outputs": [
        {
          "output_type": "stream",
          "name": "stdout",
          "text": [
            ">2 bathrooms appears to be outliers.\n"
          ]
        },
        {
          "output_type": "display_data",
          "data": {
            "text/plain": [
              "<Figure size 432x288 with 1 Axes>"
            ],
            "image/png": "[encoded data removed]"
          },
          "metadata": {
            "needs_background": "light"
          }
        }
      ]
    },
    {
      "cell_type": "code",
      "source": [
        "df.boxplot(column='minimum_nights')"
      ],
      "metadata": {
        "colab": {
          "base_uri": "https://localhost:8080/",
          "height": 284
        },
        "id": "1fng3Uiuabas",
        "outputId": "874d1905-af80-464b-8716-fa6c4c685dfb"
      },
      "execution_count": 197,
      "outputs": [
        {
          "output_type": "execute_result",
          "data": {
            "text/plain": [
              "<matplotlib.axes._subplots.AxesSubplot at 0x7f3c878af350>"
            ]
          },
          "metadata": {},
          "execution_count": 197
        },
        {
          "output_type": "display_data",
          "data": {
            "text/plain": [
              "<Figure size 432x288 with 1 Axes>"
            ],
            "image/png": "[encoded data removed]"
          },
          "metadata": {
            "needs_background": "light"
          }
        }
      ]
    },
    {
      "cell_type": "code",
      "source": [
        "sns.scatterplot(data=df, x=\"bedrooms\", y=\"price\",hue = \"room_type\");"
      ],
      "metadata": {
        "colab": {
          "base_uri": "https://localhost:8080/",
          "height": 279
        },
        "id": "h8lLbvhPjyI5",
        "outputId": "87ca2740-3322-46c6-eb43-f4e99c322c89"
      },
      "execution_count": 198,
      "outputs": [
        {
          "output_type": "display_data",
          "data": {
            "text/plain": [
              "<Figure size 432x288 with 1 Axes>"
            ],
            "image/png": "[encoded data removed]"
          },
          "metadata": {
            "needs_background": "light"
          }
        }
      ]
    },
    {
      "cell_type": "code",
      "source": [
        "df.describe()"
      ],
      "metadata": {
        "colab": {
          "base_uri": "https://localhost:8080/",
          "height": 300
        },
        "id": "rcRc_1jSlM_l",
        "outputId": "95792039-f0ea-4480-dd11-329837c78fd5"
      },
      "execution_count": 199,
      "outputs": [
        {
          "output_type": "execute_result",
          "data": {
            "text/plain": [
              "         bathrooms     bedrooms  minimum_nights        price\n",
              "count  2222.000000  2222.000000     2222.000000  2222.000000\n",
              "mean      1.354860     1.438344       16.021152   227.611611\n",
              "std       0.917326     0.937741       35.814332   319.505827\n",
              "min       0.000000     0.000000        1.000000    29.000000\n",
              "25%       1.000000     1.000000        2.000000   109.000000\n",
              "50%       1.000000     1.000000        4.000000   155.000000\n",
              "75%       1.500000     2.000000       30.000000   250.000000\n",
              "max      10.000000     6.000000     1125.000000  9999.000000"
            ],
            "text/html": [
              "\n",
              "  <div id=\"df-5369eba2-3ffa-46eb-8d1c-1ff71032d56d\">\n",
              "    <div class=\"colab-df-container\">\n",
              "      <div>\n",
              "<style scoped>\n",
              "    .dataframe tbody tr th:only-of-type {\n",
              "        vertical-align: middle;\n",
              "    }\n",
              "\n",
              "    .dataframe tbody tr th {\n",
              "        vertical-align: top;\n",
              "    }\n",
              "\n",
              "    .dataframe thead th {\n",
              "        text-align: right;\n",
              "    }\n",
              "</style>\n",
              "<table border=\"1\" class=\"dataframe\">\n",
              "  <thead>\n",
              "    <tr style=\"text-align: right;\">\n",
              "      <th></th>\n",
              "      <th>bathrooms</th>\n",
              "      <th>bedrooms</th>\n",
              "      <th>minimum_nights</th>\n",
              "      <th>price</th>\n",
              "    </tr>\n",
              "  </thead>\n",
              "  <tbody>\n",
              "    <tr>\n",
              "      <th>count</th>\n",
              "      <td>2222.000000</td>\n",
              "      <td>2222.000000</td>\n",
              "      <td>2222.000000</td>\n",
              "      <td>2222.000000</td>\n",
              "    </tr>\n",
              "    <tr>\n",
              "      <th>mean</th>\n",
              "      <td>1.354860</td>\n",
              "      <td>1.438344</td>\n",
              "      <td>16.021152</td>\n",
              "      <td>227.611611</td>\n",
              "    </tr>\n",
              "    <tr>\n",
              "      <th>std</th>\n",
              "      <td>0.917326</td>\n",
              "      <td>0.937741</td>\n",
              "      <td>35.814332</td>\n",
              "      <td>319.505827</td>\n",
              "    </tr>\n",
              "    <tr>\n",
              "      <th>min</th>\n",
              "      <td>0.000000</td>\n",
              "      <td>0.000000</td>\n",
              "      <td>1.000000</td>\n",
              "      <td>29.000000</td>\n",
              "    </tr>\n",
              "    <tr>\n",
              "      <th>25%</th>\n",
              "      <td>1.000000</td>\n",
              "      <td>1.000000</td>\n",
              "      <td>2.000000</td>\n",
              "      <td>109.000000</td>\n",
              "    </tr>\n",
              "    <tr>\n",
              "      <th>50%</th>\n",
              "      <td>1.000000</td>\n",
              "      <td>1.000000</td>\n",
              "      <td>4.000000</td>\n",
              "      <td>155.000000</td>\n",
              "    </tr>\n",
              "    <tr>\n",
              "      <th>75%</th>\n",
              "      <td>1.500000</td>\n",
              "      <td>2.000000</td>\n",
              "      <td>30.000000</td>\n",
              "      <td>250.000000</td>\n",
              "    </tr>\n",
              "    <tr>\n",
              "      <th>max</th>\n",
              "      <td>10.000000</td>\n",
              "      <td>6.000000</td>\n",
              "      <td>1125.000000</td>\n",
              "      <td>9999.000000</td>\n",
              "    </tr>\n",
              "  </tbody>\n",
              "</table>\n",
              "</div>\n",
              "      <button class=\"colab-df-convert\" onclick=\"convertToInteractive('df-5369eba2-3ffa-46eb-8d1c-1ff71032d56d')\"\n",
              "              title=\"Convert this dataframe to an interactive table.\"\n",
              "              style=\"display:none;\">\n",
              "        \n",
              "  <svg xmlns=\"http://www.w3.org/2000/svg\" height=\"24px\"viewBox=\"0 0 24 24\"\n",
              "       width=\"24px\">\n",
              "    <path d=\"M0 0h24v24H0V0z\" fill=\"none\"/>\n",
              "    <path d=\"M18.56 5.44l.94 2.06.94-2.06 2.06-.94-2.06-.94-.94-2.06-.94 2.06-2.06.94zm-11 1L8.5 8.5l.94-2.06 2.06-.94-2.06-.94L8.5 2.5l-.94 2.06-2.06.94zm10 10l.94 2.06.94-2.06 2.06-.94-2.06-.94-.94-2.06-.94 2.06-2.06.94z\"/><path d=\"M17.41 7.96l-1.37-1.37c-.4-.4-.92-.59-1.43-.59-.52 0-1.04.2-1.43.59L10.3 9.45l-7.72 7.72c-.78.78-.78 2.05 0 2.83L4 21.41c.39.39.9.59 1.41.59.51 0 1.02-.2 1.41-.59l7.78-7.78 2.81-2.81c.8-.78.8-2.07 0-2.86zM5.41 20L4 18.59l7.72-7.72 1.47 1.35L5.41 20z\"/>\n",
              "  </svg>\n",
              "      </button>\n",
              "      \n",
              "  <style>\n",
              "    .colab-df-container {\n",
              "      display:flex;\n",
              "      flex-wrap:wrap;\n",
              "      gap: 12px;\n",
              "    }\n",
              "\n",
              "    .colab-df-convert {\n",
              "      background-color: #E8F0FE;\n",
              "      border: none;\n",
              "      border-radius: 50%;\n",
              "      cursor: pointer;\n",
              "      display: none;\n",
              "      fill: #1967D2;\n",
              "      height: 32px;\n",
              "      padding: 0 0 0 0;\n",
              "      width: 32px;\n",
              "    }\n",
              "\n",
              "    .colab-df-convert:hover {\n",
              "      background-color: #E2EBFA;\n",
              "      box-shadow: 0px 1px 2px rgba(60, 64, 67, 0.3), 0px 1px 3px 1px rgba(60, 64, 67, 0.15);\n",
              "      fill: #174EA6;\n",
              "    }\n",
              "\n",
              "    [theme=dark] .colab-df-convert {\n",
              "      background-color: #3B4455;\n",
              "      fill: #D2E3FC;\n",
              "    }\n",
              "\n",
              "    [theme=dark] .colab-df-convert:hover {\n",
              "      background-color: #434B5C;\n",
              "      box-shadow: 0px 1px 3px 1px rgba(0, 0, 0, 0.15);\n",
              "      filter: drop-shadow(0px 1px 2px rgba(0, 0, 0, 0.3));\n",
              "      fill: #FFFFFF;\n",
              "    }\n",
              "  </style>\n",
              "\n",
              "      <script>\n",
              "        const buttonEl =\n",
              "          document.querySelector('#df-5369eba2-3ffa-46eb-8d1c-1ff71032d56d button.colab-df-convert');\n",
              "        buttonEl.style.display =\n",
              "          google.colab.kernel.accessAllowed ? 'block' : 'none';\n",
              "\n",
              "        async function convertToInteractive(key) {\n",
              "          const element = document.querySelector('#df-5369eba2-3ffa-46eb-8d1c-1ff71032d56d');\n",
              "          const dataTable =\n",
              "            await google.colab.kernel.invokeFunction('convertToInteractive',\n",
              "                                                     [key], {});\n",
              "          if (!dataTable) return;\n",
              "\n",
              "          const docLinkHtml = 'Like what you see? Visit the ' +\n",
              "            '<a target=\"_blank\" href=https://colab.research.google.com/notebooks/data_table.ipynb>data table notebook</a>'\n",
              "            + ' to learn more about interactive tables.';\n",
              "          element.innerHTML = '';\n",
              "          dataTable['output_type'] = 'display_data';\n",
              "          await google.colab.output.renderOutput(dataTable, element);\n",
              "          const docLink = document.createElement('div');\n",
              "          docLink.innerHTML = docLinkHtml;\n",
              "          element.appendChild(docLink);\n",
              "        }\n",
              "      </script>\n",
              "    </div>\n",
              "  </div>\n",
              "  "
            ]
          },
          "metadata": {},
          "execution_count": 199
        }
      ]
    },
    {
      "cell_type": "markdown",
      "source": [
        "Outliers: bathrooms > 1.5, bedrooms > 2, minimum nights >30, price > 250. Should be noted that outlier for price doesnt no consider like to like comparison for minimum nights required. The price shown is the total cost for the minimum nights expected."
      ],
      "metadata": {
        "id": "oCYI1QNilRWw"
      }
    },
    {
      "cell_type": "markdown",
      "source": [
        "#Key Analysis + Visuals"
      ],
      "metadata": {
        "id": "xkNdZRj1MI25"
      }
    },
    {
      "cell_type": "code",
      "source": [
        "ax = sns.barplot(data=df, x='bedrooms', y = 'price',ci=None);\n",
        "for p in ax.patches:\n",
        "             ax.annotate(\"%.0f\" % p.get_height(), (p.get_x() + p.get_width() / 2., p.get_height()),\n",
        "                 ha='center', va='center', fontsize=10, color='black', xytext=(0, 5),\n",
        "                 textcoords='offset points')\n",
        "plt.show()\n",
        "\n",
        "#Source on Data Label: https://stackoverflow.com/questions/62002434/how-to-add-data-labels-to-seaborn-barplot"
      ],
      "metadata": {
        "colab": {
          "base_uri": "https://localhost:8080/",
          "height": 279
        },
        "id": "GsEebm70MMTg",
        "outputId": "dfa09522-58c1-4f32-bb0d-7c0ca3213076"
      },
      "execution_count": 200,
      "outputs": [
        {
          "output_type": "display_data",
          "data": {
            "text/plain": [
              "<Figure size 432x288 with 1 Axes>"
            ],
            "image/png": "[encoded data removed]"
          },
          "metadata": {
            "needs_background": "light"
          }
        }
      ]
    },
    {
      "cell_type": "markdown",
      "source": [
        "**Key Observation**: Average price and # of bedrooms are closely correlated. This is expected in real estate. More # of bedrooms tend to equates to higher prices."
      ],
      "metadata": {
        "id": "sahvg4dMNjRO"
      }
    },
    {
      "cell_type": "code",
      "source": [
        "ax = sns.barplot(data=df, x='room_type', y = 'price',ci=None);\n",
        "for p in ax.patches:\n",
        "             ax.annotate(\"%.0f\" % p.get_height(), (p.get_x() + p.get_width() / 2., p.get_height()),\n",
        "                 ha='center', va='center', fontsize=10, color='black', xytext=(0, 5),\n",
        "                 textcoords='offset points')\n",
        "plt.show()"
      ],
      "metadata": {
        "colab": {
          "base_uri": "https://localhost:8080/",
          "height": 282
        },
        "id": "hwFwOVwSMeFn",
        "outputId": "f3b3b135-6ab8-4db4-ffc0-f19ea213be63"
      },
      "execution_count": 201,
      "outputs": [
        {
          "output_type": "display_data",
          "data": {
            "text/plain": [
              "<Figure size 432x288 with 1 Axes>"
            ],
            "image/png": "[encoded data removed]"
          },
          "metadata": {
            "needs_background": "light"
          }
        }
      ]
    },
    {
      "cell_type": "markdown",
      "source": [
        "**Key Observation**: This shows the average price by each Room Types. Renting out an entire home or apartment will likely be the most expensive option. Its quite interesting to see that shared room is cheaper than a private room. Hotel room is the second most expensive option as it is expected to offer the most privacy and space after an entire home/apartment. "
      ],
      "metadata": {
        "id": "w2hrPlGTN17R"
      }
    },
    {
      "cell_type": "code",
      "source": [
        "ax = sns.barplot(data=df, x='property_type', y = 'price',ci=None);\n",
        "for p in ax.patches:\n",
        "             ax.annotate(\"%.0f\" % p.get_height(), (p.get_x() + p.get_width() / 2., p.get_height()),\n",
        "                 ha='center', va='center', fontsize=10, color='black', xytext=(0, 5),\n",
        "                 textcoords='offset points')\n",
        "plt.xticks(rotation=90);\n",
        "plt.show()"
      ],
      "metadata": {
        "colab": {
          "base_uri": "https://localhost:8080/",
          "height": 369
        },
        "id": "vYU8Lw-3NAlO",
        "outputId": "4fa54d3d-86c0-4517-f48c-ee3f9d89748d"
      },
      "execution_count": 202,
      "outputs": [
        {
          "output_type": "display_data",
          "data": {
            "text/plain": [
              "<Figure size 432x288 with 1 Axes>"
            ],
            "image/png": "[encoded data removed]"
          },
          "metadata": {
            "needs_background": "light"
          }
        }
      ]
    },
    {
      "cell_type": "markdown",
      "source": [
        "**Key Observation**: This shows the average price expected by each property type. Based on the chart, Serviced apartment is the most expensive option. Hostels/Bed and breakfast types are least expensive. This aligns with the typical real estate/hospitality market."
      ],
      "metadata": {
        "id": "6xZ4q4HBOfWx"
      }
    },
    {
      "cell_type": "markdown",
      "source": [
        "#Model Selection Process"
      ],
      "metadata": {
        "id": "pwzFDnAbDGeX"
      }
    },
    {
      "cell_type": "markdown",
      "source": [
        "Classification or Regression?\n",
        "\n",
        "The model I will be selecting will be solving a regression problem where the model will predict the price per night of the rental based on the rental's features."
      ],
      "metadata": {
        "id": "NkED3ZgHDcfS"
      }
    },
    {
      "cell_type": "markdown",
      "source": [
        "Based on prior experiences and exercises, I will be using 3 regression models that I think have yielded the best result. The 3 models will be hypertuned and will also be tested with reduced features (by combining features) to find the best performing model.\n",
        "\n",
        "1. Linear (Standard)\n",
        "2. Random Tree \n",
        "3. KNN\n",
        "\n",
        "Metrics for evaluating the Model:\n",
        "\n",
        "* MAE: Mean absolute error measures the average of the absolute values of all of the errors our model makes. \n",
        "\n",
        "* MSE: Mean squared error is similar to mean absolute error, but it penalizes large errors more.\n",
        "\n",
        "* RMSE: Root mean squared error is the square root of the mean squared error. Like the previous two metrics, a lower RMSE is better. \n",
        "\n",
        "* R^2: This score can be interpreted as saying that our model can account for about XX% of the variation in y_test using the features in X_test. (Not really a high priority measurement in this use case)"
      ],
      "metadata": {
        "id": "PkDir3ddEs03"
      }
    },
    {
      "cell_type": "markdown",
      "source": [
        "##Preparing Data for ML"
      ],
      "metadata": {
        "id": "eEFT0ghNUli5"
      }
    },
    {
      "cell_type": "code",
      "source": [
        "df.head()"
      ],
      "metadata": {
        "colab": {
          "base_uri": "https://localhost:8080/",
          "height": 206
        },
        "id": "pRAFbkRqUocH",
        "outputId": "159bacd6-34ea-4ecc-d686-8e92ad59d6ef"
      },
      "execution_count": 203,
      "outputs": [
        {
          "output_type": "execute_result",
          "data": {
            "text/plain": [
              "  property_type        room_type  bathrooms  bedrooms  minimum_nights  price\n",
              "0     Apartment  Entire home/apt        1.0       1.0               1  170.0\n",
              "1         House     Private room        1.0       1.0               1   99.0\n",
              "2     Apartment  Entire home/apt        1.0       2.0              30  235.0\n",
              "3     Apartment     Private room        4.0       1.0              32   65.0\n",
              "4     Apartment     Private room        4.0       1.0              32   65.0"
            ],
            "text/html": [
              "\n",
              "  <div id=\"df-18faa951-64e8-4de4-9ad9-9373aceac8f6\">\n",
              "    <div class=\"colab-df-container\">\n",
              "      <div>\n",
              "<style scoped>\n",
              "    .dataframe tbody tr th:only-of-type {\n",
              "        vertical-align: middle;\n",
              "    }\n",
              "\n",
              "    .dataframe tbody tr th {\n",
              "        vertical-align: top;\n",
              "    }\n",
              "\n",
              "    .dataframe thead th {\n",
              "        text-align: right;\n",
              "    }\n",
              "</style>\n",
              "<table border=\"1\" class=\"dataframe\">\n",
              "  <thead>\n",
              "    <tr style=\"text-align: right;\">\n",
              "      <th></th>\n",
              "      <th>property_type</th>\n",
              "      <th>room_type</th>\n",
              "      <th>bathrooms</th>\n",
              "      <th>bedrooms</th>\n",
              "      <th>minimum_nights</th>\n",
              "      <th>price</th>\n",
              "    </tr>\n",
              "  </thead>\n",
              "  <tbody>\n",
              "    <tr>\n",
              "      <th>0</th>\n",
              "      <td>Apartment</td>\n",
              "      <td>Entire home/apt</td>\n",
              "      <td>1.0</td>\n",
              "      <td>1.0</td>\n",
              "      <td>1</td>\n",
              "      <td>170.0</td>\n",
              "    </tr>\n",
              "    <tr>\n",
              "      <th>1</th>\n",
              "      <td>House</td>\n",
              "      <td>Private room</td>\n",
              "      <td>1.0</td>\n",
              "      <td>1.0</td>\n",
              "      <td>1</td>\n",
              "      <td>99.0</td>\n",
              "    </tr>\n",
              "    <tr>\n",
              "      <th>2</th>\n",
              "      <td>Apartment</td>\n",
              "      <td>Entire home/apt</td>\n",
              "      <td>1.0</td>\n",
              "      <td>2.0</td>\n",
              "      <td>30</td>\n",
              "      <td>235.0</td>\n",
              "    </tr>\n",
              "    <tr>\n",
              "      <th>3</th>\n",
              "      <td>Apartment</td>\n",
              "      <td>Private room</td>\n",
              "      <td>4.0</td>\n",
              "      <td>1.0</td>\n",
              "      <td>32</td>\n",
              "      <td>65.0</td>\n",
              "    </tr>\n",
              "    <tr>\n",
              "      <th>4</th>\n",
              "      <td>Apartment</td>\n",
              "      <td>Private room</td>\n",
              "      <td>4.0</td>\n",
              "      <td>1.0</td>\n",
              "      <td>32</td>\n",
              "      <td>65.0</td>\n",
              "    </tr>\n",
              "  </tbody>\n",
              "</table>\n",
              "</div>\n",
              "      <button class=\"colab-df-convert\" onclick=\"convertToInteractive('df-18faa951-64e8-4de4-9ad9-9373aceac8f6')\"\n",
              "              title=\"Convert this dataframe to an interactive table.\"\n",
              "              style=\"display:none;\">\n",
              "        \n",
              "  <svg xmlns=\"http://www.w3.org/2000/svg\" height=\"24px\"viewBox=\"0 0 24 24\"\n",
              "       width=\"24px\">\n",
              "    <path d=\"M0 0h24v24H0V0z\" fill=\"none\"/>\n",
              "    <path d=\"M18.56 5.44l.94 2.06.94-2.06 2.06-.94-2.06-.94-.94-2.06-.94 2.06-2.06.94zm-11 1L8.5 8.5l.94-2.06 2.06-.94-2.06-.94L8.5 2.5l-.94 2.06-2.06.94zm10 10l.94 2.06.94-2.06 2.06-.94-2.06-.94-.94-2.06-.94 2.06-2.06.94z\"/><path d=\"M17.41 7.96l-1.37-1.37c-.4-.4-.92-.59-1.43-.59-.52 0-1.04.2-1.43.59L10.3 9.45l-7.72 7.72c-.78.78-.78 2.05 0 2.83L4 21.41c.39.39.9.59 1.41.59.51 0 1.02-.2 1.41-.59l7.78-7.78 2.81-2.81c.8-.78.8-2.07 0-2.86zM5.41 20L4 18.59l7.72-7.72 1.47 1.35L5.41 20z\"/>\n",
              "  </svg>\n",
              "      </button>\n",
              "      \n",
              "  <style>\n",
              "    .colab-df-container {\n",
              "      display:flex;\n",
              "      flex-wrap:wrap;\n",
              "      gap: 12px;\n",
              "    }\n",
              "\n",
              "    .colab-df-convert {\n",
              "      background-color: #E8F0FE;\n",
              "      border: none;\n",
              "      border-radius: 50%;\n",
              "      cursor: pointer;\n",
              "      display: none;\n",
              "      fill: #1967D2;\n",
              "      height: 32px;\n",
              "      padding: 0 0 0 0;\n",
              "      width: 32px;\n",
              "    }\n",
              "\n",
              "    .colab-df-convert:hover {\n",
              "      background-color: #E2EBFA;\n",
              "      box-shadow: 0px 1px 2px rgba(60, 64, 67, 0.3), 0px 1px 3px 1px rgba(60, 64, 67, 0.15);\n",
              "      fill: #174EA6;\n",
              "    }\n",
              "\n",
              "    [theme=dark] .colab-df-convert {\n",
              "      background-color: #3B4455;\n",
              "      fill: #D2E3FC;\n",
              "    }\n",
              "\n",
              "    [theme=dark] .colab-df-convert:hover {\n",
              "      background-color: #434B5C;\n",
              "      box-shadow: 0px 1px 3px 1px rgba(0, 0, 0, 0.15);\n",
              "      filter: drop-shadow(0px 1px 2px rgba(0, 0, 0, 0.3));\n",
              "      fill: #FFFFFF;\n",
              "    }\n",
              "  </style>\n",
              "\n",
              "      <script>\n",
              "        const buttonEl =\n",
              "          document.querySelector('#df-18faa951-64e8-4de4-9ad9-9373aceac8f6 button.colab-df-convert');\n",
              "        buttonEl.style.display =\n",
              "          google.colab.kernel.accessAllowed ? 'block' : 'none';\n",
              "\n",
              "        async function convertToInteractive(key) {\n",
              "          const element = document.querySelector('#df-18faa951-64e8-4de4-9ad9-9373aceac8f6');\n",
              "          const dataTable =\n",
              "            await google.colab.kernel.invokeFunction('convertToInteractive',\n",
              "                                                     [key], {});\n",
              "          if (!dataTable) return;\n",
              "\n",
              "          const docLinkHtml = 'Like what you see? Visit the ' +\n",
              "            '<a target=\"_blank\" href=https://colab.research.google.com/notebooks/data_table.ipynb>data table notebook</a>'\n",
              "            + ' to learn more about interactive tables.';\n",
              "          element.innerHTML = '';\n",
              "          dataTable['output_type'] = 'display_data';\n",
              "          await google.colab.output.renderOutput(dataTable, element);\n",
              "          const docLink = document.createElement('div');\n",
              "          docLink.innerHTML = docLinkHtml;\n",
              "          element.appendChild(docLink);\n",
              "        }\n",
              "      </script>\n",
              "    </div>\n",
              "  </div>\n",
              "  "
            ]
          },
          "metadata": {},
          "execution_count": 203
        }
      ]
    },
    {
      "cell_type": "code",
      "source": [
        "# Arrange Data into Features Matrix and Target Vector\n",
        "y = df['price']\n",
        "X = df.drop(columns = 'price')\n",
        "# Split the data for validation\n",
        "X_train, X_test, y_train, y_test = train_test_split(X, y, random_state=42)"
      ],
      "metadata": {
        "id": "mhIezhLPKL9D"
      },
      "execution_count": 204,
      "outputs": []
    },
    {
      "cell_type": "code",
      "source": [
        "# Instantiate the categorical and numeric column selectors to select appropriate columns\n",
        "cat_selector = make_column_selector(dtype_include='object')\n",
        "num_selector = make_column_selector(dtype_include='number')\n",
        "# Instantiate the Standard Scaler and the One hot encoder\n",
        "scaler = StandardScaler()\n",
        "ohe = OneHotEncoder(handle_unknown='ignore') #this needs to be applied to property_type and room_type"
      ],
      "metadata": {
        "id": "FLanSJrV5w1z"
      },
      "execution_count": 205,
      "outputs": []
    },
    {
      "cell_type": "code",
      "source": [
        "num_processor = make_pipeline(scaler)\n",
        "cat_processor = make_pipeline(ohe)"
      ],
      "metadata": {
        "id": "-LLXnyDdZNA1"
      },
      "execution_count": 206,
      "outputs": []
    },
    {
      "cell_type": "code",
      "source": [
        "# Make tuples for preprocessing the categorical and numeric columns\n",
        "num_tuple = (num_processor,num_selector)\n",
        "cat_tuple = (cat_processor,cat_selector)"
      ],
      "metadata": {
        "id": "Pcg9GHI-RBJ0"
      },
      "execution_count": 207,
      "outputs": []
    },
    {
      "cell_type": "code",
      "source": [
        "col_transformer = make_column_transformer(num_tuple, cat_tuple, remainder = 'passthrough')"
      ],
      "metadata": {
        "id": "QQioJZt66Kza"
      },
      "execution_count": 208,
      "outputs": []
    },
    {
      "cell_type": "code",
      "source": [
        "#function for score\n",
        "def eval_regression(true, pred):\n",
        "  \"\"\"Takes true and predicted values (arrays) and prints MAE, MSE, RMSE and R2\"\"\"\n",
        "  mae = mean_absolute_error(true, pred)\n",
        "  mse = mean_squared_error(true, pred)\n",
        "  rmse = np.sqrt(mse)\n",
        "  r2 = r2_score(true, pred)\n",
        "\n",
        "  print(f'MAE {mae},\\nMSE {mse},\\nRMSE: {rmse},\\nR^2: {r2} ')"
      ],
      "metadata": {
        "id": "Rg4Ci1GnW_M_"
      },
      "execution_count": 209,
      "outputs": []
    },
    {
      "cell_type": "markdown",
      "source": [
        "###Combining Features"
      ],
      "metadata": {
        "id": "CPMl7MlAqEXk"
      }
    },
    {
      "cell_type": "code",
      "source": [
        "df_copy = df.copy()"
      ],
      "metadata": {
        "id": "2U7vHwLRqVnr"
      },
      "execution_count": 210,
      "outputs": []
    },
    {
      "cell_type": "code",
      "source": [
        "#reduce the room features to total rooms (combining two features)\n",
        "df_copy['total_rooms'] = df_copy['bathrooms'] + df_copy['bedrooms']\n",
        "df_copy.drop(columns = ['bathrooms','bedrooms'], inplace = True)\n",
        "df_copy.head()"
      ],
      "metadata": {
        "colab": {
          "base_uri": "https://localhost:8080/",
          "height": 206
        },
        "id": "NvfWp44ZqK_g",
        "outputId": "a44ec9c4-c993-4da1-e3b6-53f850a7e0ce"
      },
      "execution_count": 211,
      "outputs": [
        {
          "output_type": "execute_result",
          "data": {
            "text/plain": [
              "  property_type        room_type  minimum_nights  price  total_rooms\n",
              "0     Apartment  Entire home/apt               1  170.0          2.0\n",
              "1         House     Private room               1   99.0          2.0\n",
              "2     Apartment  Entire home/apt              30  235.0          3.0\n",
              "3     Apartment     Private room              32   65.0          5.0\n",
              "4     Apartment     Private room              32   65.0          5.0"
            ],
            "text/html": [
              "\n",
              "  <div id=\"df-a2011f5e-ff4e-446d-997e-df79255a7d77\">\n",
              "    <div class=\"colab-df-container\">\n",
              "      <div>\n",
              "<style scoped>\n",
              "    .dataframe tbody tr th:only-of-type {\n",
              "        vertical-align: middle;\n",
              "    }\n",
              "\n",
              "    .dataframe tbody tr th {\n",
              "        vertical-align: top;\n",
              "    }\n",
              "\n",
              "    .dataframe thead th {\n",
              "        text-align: right;\n",
              "    }\n",
              "</style>\n",
              "<table border=\"1\" class=\"dataframe\">\n",
              "  <thead>\n",
              "    <tr style=\"text-align: right;\">\n",
              "      <th></th>\n",
              "      <th>property_type</th>\n",
              "      <th>room_type</th>\n",
              "      <th>minimum_nights</th>\n",
              "      <th>price</th>\n",
              "      <th>total_rooms</th>\n",
              "    </tr>\n",
              "  </thead>\n",
              "  <tbody>\n",
              "    <tr>\n",
              "      <th>0</th>\n",
              "      <td>Apartment</td>\n",
              "      <td>Entire home/apt</td>\n",
              "      <td>1</td>\n",
              "      <td>170.0</td>\n",
              "      <td>2.0</td>\n",
              "    </tr>\n",
              "    <tr>\n",
              "      <th>1</th>\n",
              "      <td>House</td>\n",
              "      <td>Private room</td>\n",
              "      <td>1</td>\n",
              "      <td>99.0</td>\n",
              "      <td>2.0</td>\n",
              "    </tr>\n",
              "    <tr>\n",
              "      <th>2</th>\n",
              "      <td>Apartment</td>\n",
              "      <td>Entire home/apt</td>\n",
              "      <td>30</td>\n",
              "      <td>235.0</td>\n",
              "      <td>3.0</td>\n",
              "    </tr>\n",
              "    <tr>\n",
              "      <th>3</th>\n",
              "      <td>Apartment</td>\n",
              "      <td>Private room</td>\n",
              "      <td>32</td>\n",
              "      <td>65.0</td>\n",
              "      <td>5.0</td>\n",
              "    </tr>\n",
              "    <tr>\n",
              "      <th>4</th>\n",
              "      <td>Apartment</td>\n",
              "      <td>Private room</td>\n",
              "      <td>32</td>\n",
              "      <td>65.0</td>\n",
              "      <td>5.0</td>\n",
              "    </tr>\n",
              "  </tbody>\n",
              "</table>\n",
              "</div>\n",
              "      <button class=\"colab-df-convert\" onclick=\"convertToInteractive('df-a2011f5e-ff4e-446d-997e-df79255a7d77')\"\n",
              "              title=\"Convert this dataframe to an interactive table.\"\n",
              "              style=\"display:none;\">\n",
              "        \n",
              "  <svg xmlns=\"http://www.w3.org/2000/svg\" height=\"24px\"viewBox=\"0 0 24 24\"\n",
              "       width=\"24px\">\n",
              "    <path d=\"M0 0h24v24H0V0z\" fill=\"none\"/>\n",
              "    <path d=\"M18.56 5.44l.94 2.06.94-2.06 2.06-.94-2.06-.94-.94-2.06-.94 2.06-2.06.94zm-11 1L8.5 8.5l.94-2.06 2.06-.94-2.06-.94L8.5 2.5l-.94 2.06-2.06.94zm10 10l.94 2.06.94-2.06 2.06-.94-2.06-.94-.94-2.06-.94 2.06-2.06.94z\"/><path d=\"M17.41 7.96l-1.37-1.37c-.4-.4-.92-.59-1.43-.59-.52 0-1.04.2-1.43.59L10.3 9.45l-7.72 7.72c-.78.78-.78 2.05 0 2.83L4 21.41c.39.39.9.59 1.41.59.51 0 1.02-.2 1.41-.59l7.78-7.78 2.81-2.81c.8-.78.8-2.07 0-2.86zM5.41 20L4 18.59l7.72-7.72 1.47 1.35L5.41 20z\"/>\n",
              "  </svg>\n",
              "      </button>\n",
              "      \n",
              "  <style>\n",
              "    .colab-df-container {\n",
              "      display:flex;\n",
              "      flex-wrap:wrap;\n",
              "      gap: 12px;\n",
              "    }\n",
              "\n",
              "    .colab-df-convert {\n",
              "      background-color: #E8F0FE;\n",
              "      border: none;\n",
              "      border-radius: 50%;\n",
              "      cursor: pointer;\n",
              "      display: none;\n",
              "      fill: #1967D2;\n",
              "      height: 32px;\n",
              "      padding: 0 0 0 0;\n",
              "      width: 32px;\n",
              "    }\n",
              "\n",
              "    .colab-df-convert:hover {\n",
              "      background-color: #E2EBFA;\n",
              "      box-shadow: 0px 1px 2px rgba(60, 64, 67, 0.3), 0px 1px 3px 1px rgba(60, 64, 67, 0.15);\n",
              "      fill: #174EA6;\n",
              "    }\n",
              "\n",
              "    [theme=dark] .colab-df-convert {\n",
              "      background-color: #3B4455;\n",
              "      fill: #D2E3FC;\n",
              "    }\n",
              "\n",
              "    [theme=dark] .colab-df-convert:hover {\n",
              "      background-color: #434B5C;\n",
              "      box-shadow: 0px 1px 3px 1px rgba(0, 0, 0, 0.15);\n",
              "      filter: drop-shadow(0px 1px 2px rgba(0, 0, 0, 0.3));\n",
              "      fill: #FFFFFF;\n",
              "    }\n",
              "  </style>\n",
              "\n",
              "      <script>\n",
              "        const buttonEl =\n",
              "          document.querySelector('#df-a2011f5e-ff4e-446d-997e-df79255a7d77 button.colab-df-convert');\n",
              "        buttonEl.style.display =\n",
              "          google.colab.kernel.accessAllowed ? 'block' : 'none';\n",
              "\n",
              "        async function convertToInteractive(key) {\n",
              "          const element = document.querySelector('#df-a2011f5e-ff4e-446d-997e-df79255a7d77');\n",
              "          const dataTable =\n",
              "            await google.colab.kernel.invokeFunction('convertToInteractive',\n",
              "                                                     [key], {});\n",
              "          if (!dataTable) return;\n",
              "\n",
              "          const docLinkHtml = 'Like what you see? Visit the ' +\n",
              "            '<a target=\"_blank\" href=https://colab.research.google.com/notebooks/data_table.ipynb>data table notebook</a>'\n",
              "            + ' to learn more about interactive tables.';\n",
              "          element.innerHTML = '';\n",
              "          dataTable['output_type'] = 'display_data';\n",
              "          await google.colab.output.renderOutput(dataTable, element);\n",
              "          const docLink = document.createElement('div');\n",
              "          docLink.innerHTML = docLinkHtml;\n",
              "          element.appendChild(docLink);\n",
              "        }\n",
              "      </script>\n",
              "    </div>\n",
              "  </div>\n",
              "  "
            ]
          },
          "metadata": {},
          "execution_count": 211
        }
      ]
    },
    {
      "cell_type": "code",
      "source": [
        "# Arrange Data into Features Matrix and Target Vector (a - Target, B - Features)\n",
        "a = df_copy['price']\n",
        "B = df_copy.drop(columns = 'price')\n",
        "# Split the data for validation\n",
        "B_train, B_test, a_train, a_test = train_test_split(B, a, random_state=42)"
      ],
      "metadata": {
        "id": "y4eSDqTssMWi"
      },
      "execution_count": 212,
      "outputs": []
    },
    {
      "cell_type": "markdown",
      "source": [
        "##Linear Model"
      ],
      "metadata": {
        "id": "riQkmY4AFrxl"
      }
    },
    {
      "cell_type": "code",
      "source": [
        "lin_reg = LinearRegression()"
      ],
      "metadata": {
        "id": "u6LW5Shrr_tq"
      },
      "execution_count": 213,
      "outputs": []
    },
    {
      "cell_type": "code",
      "source": [
        "#making the pipeline\n",
        "lin_reg_pipe = make_pipeline(col_transformer, lin_reg)"
      ],
      "metadata": {
        "id": "5L87O-HrTs_5"
      },
      "execution_count": 214,
      "outputs": []
    },
    {
      "cell_type": "code",
      "source": [
        "#Fitting the model\n",
        "lin_reg_pipe.fit(X_train, y_train)"
      ],
      "metadata": {
        "colab": {
          "base_uri": "https://localhost:8080/"
        },
        "id": "1awug-flsMky",
        "outputId": "0eeee3a5-be02-4f3f-8869-0ca2ed6adc80"
      },
      "execution_count": 215,
      "outputs": [
        {
          "output_type": "execute_result",
          "data": {
            "text/plain": [
              "Pipeline(steps=[('columntransformer',\n",
              "                 ColumnTransformer(remainder='passthrough',\n",
              "                                   transformers=[('pipeline-1',\n",
              "                                                  Pipeline(steps=[('standardscaler',\n",
              "                                                                   StandardScaler())]),\n",
              "                                                  <sklearn.compose._column_transformer.make_column_selector object at 0x7f3c8769fa50>),\n",
              "                                                 ('pipeline-2',\n",
              "                                                  Pipeline(steps=[('onehotencoder',\n",
              "                                                                   OneHotEncoder(handle_unknown='ignore'))]),\n",
              "                                                  <sklearn.compose._column_transformer.make_column_selector object at 0x7f3c876ca810>)])),\n",
              "                ('linearregression', LinearRegression())])"
            ]
          },
          "metadata": {},
          "execution_count": 215
        }
      ]
    },
    {
      "cell_type": "code",
      "source": [
        "train_ln_pred = lin_reg_pipe.predict(X_train)\n",
        "test_ln_pred = lin_reg_pipe.predict(X_test)"
      ],
      "metadata": {
        "id": "Z8S2R_DmWoKF"
      },
      "execution_count": 216,
      "outputs": []
    },
    {
      "cell_type": "code",
      "source": [
        "#get the score of the model\n",
        "print(f'Train Score')\n",
        "eval_regression(y_train, train_ln_pred)\n",
        "print(f'\\n')\n",
        "print(f'Test Score')\n",
        "eval_regression(y_test, test_ln_pred)"
      ],
      "metadata": {
        "colab": {
          "base_uri": "https://localhost:8080/"
        },
        "id": "rT-lCrTWW2ht",
        "outputId": "28079733-cba0-417a-9464-49ff702c768a"
      },
      "execution_count": 217,
      "outputs": [
        {
          "output_type": "stream",
          "name": "stdout",
          "text": [
            "Train Score\n",
            "MAE 108.69765736498017,\n",
            "MSE 77823.76643397246,\n",
            "RMSE: 278.9691137634639,\n",
            "R^2: 0.2803946964609092 \n",
            "\n",
            "\n",
            "Test Score\n",
            "MAE 114.78810207776533,\n",
            "MSE 76730.67692698089,\n",
            "RMSE: 277.0030269274704,\n",
            "R^2: 0.08178193066727235 \n"
          ]
        }
      ]
    },
    {
      "cell_type": "markdown",
      "source": [
        "###Linear Model - Tuning"
      ],
      "metadata": {
        "id": "KR1kB08OdhRP"
      }
    },
    {
      "cell_type": "markdown",
      "source": [
        "Tuning is not needed for Linear Regression Model"
      ],
      "metadata": {
        "id": "mZZGDjOTdb0J"
      }
    },
    {
      "cell_type": "markdown",
      "source": [
        "####Linear Model - Reduced Features"
      ],
      "metadata": {
        "id": "83nXICgynoUw"
      }
    },
    {
      "cell_type": "code",
      "source": [
        "lin_reg_r = LinearRegression()"
      ],
      "metadata": {
        "id": "zHqtRl7Gnqqk"
      },
      "execution_count": 218,
      "outputs": []
    },
    {
      "cell_type": "code",
      "source": [
        "#making the pipeline\n",
        "lin_reg_r_pipe = make_pipeline(col_transformer, lin_reg_r)"
      ],
      "metadata": {
        "id": "tQ1A8njlnqql"
      },
      "execution_count": 219,
      "outputs": []
    },
    {
      "cell_type": "code",
      "source": [
        "#Fitting the model\n",
        "lin_reg_r_pipe.fit(B_train, a_train)"
      ],
      "metadata": {
        "colab": {
          "base_uri": "https://localhost:8080/"
        },
        "outputId": "14b77d54-bcd9-4a5d-a722-a6523a60d3ae",
        "id": "zlUd93K8nqql"
      },
      "execution_count": 220,
      "outputs": [
        {
          "output_type": "execute_result",
          "data": {
            "text/plain": [
              "Pipeline(steps=[('columntransformer',\n",
              "                 ColumnTransformer(remainder='passthrough',\n",
              "                                   transformers=[('pipeline-1',\n",
              "                                                  Pipeline(steps=[('standardscaler',\n",
              "                                                                   StandardScaler())]),\n",
              "                                                  <sklearn.compose._column_transformer.make_column_selector object at 0x7f3c8769fa50>),\n",
              "                                                 ('pipeline-2',\n",
              "                                                  Pipeline(steps=[('onehotencoder',\n",
              "                                                                   OneHotEncoder(handle_unknown='ignore'))]),\n",
              "                                                  <sklearn.compose._column_transformer.make_column_selector object at 0x7f3c876ca810>)])),\n",
              "                ('linearregression', LinearRegression())])"
            ]
          },
          "metadata": {},
          "execution_count": 220
        }
      ]
    },
    {
      "cell_type": "code",
      "source": [
        "train_ln_r_pred = lin_reg_r_pipe.predict(B_train)\n",
        "test_ln_r_pred = lin_reg_r_pipe.predict(B_test)"
      ],
      "metadata": {
        "id": "6FmVd5Vwnqql"
      },
      "execution_count": 221,
      "outputs": []
    },
    {
      "cell_type": "code",
      "source": [
        "#get the score of the model\n",
        "print(f'Train Score')\n",
        "eval_regression(a_train, train_ln_r_pred)\n",
        "print(f'\\n')\n",
        "print(f'Test Score')\n",
        "eval_regression(a_test, test_ln_r_pred)"
      ],
      "metadata": {
        "colab": {
          "base_uri": "https://localhost:8080/"
        },
        "outputId": "a224b77f-a5fb-4297-b3b7-3adcf5cd608a",
        "id": "fAM22N0onqql"
      },
      "execution_count": 222,
      "outputs": [
        {
          "output_type": "stream",
          "name": "stdout",
          "text": [
            "Train Score\n",
            "MAE 110.16702129767619,\n",
            "MSE 79384.76241632046,\n",
            "RMSE: 281.753016694268,\n",
            "R^2: 0.2659607897101499 \n",
            "\n",
            "\n",
            "Test Score\n",
            "MAE 117.39197114031182,\n",
            "MSE 78461.76256646597,\n",
            "RMSE: 280.11026858447366,\n",
            "R^2: 0.061066433588441216 \n"
          ]
        }
      ]
    },
    {
      "cell_type": "markdown",
      "source": [
        "##Random Tree"
      ],
      "metadata": {
        "id": "-cGeU8wkXheN"
      }
    },
    {
      "cell_type": "code",
      "source": [
        "rf_reg = RandomForestRegressor(random_state = 42)"
      ],
      "metadata": {
        "id": "zpQ8d29uXlzR"
      },
      "execution_count": 223,
      "outputs": []
    },
    {
      "cell_type": "code",
      "source": [
        "rf_reg.get_params()"
      ],
      "metadata": {
        "id": "vN3QwsoJejkh"
      },
      "execution_count": null,
      "outputs": []
    },
    {
      "cell_type": "code",
      "source": [
        "#making the pipeline\n",
        "rf_reg_pipe = make_pipeline(col_transformer, rf_reg)"
      ],
      "metadata": {
        "id": "SMQQIShHXlzR"
      },
      "execution_count": 225,
      "outputs": []
    },
    {
      "cell_type": "code",
      "source": [
        "#Fitting the model\n",
        "rf_reg_pipe.fit(X_train, y_train)"
      ],
      "metadata": {
        "colab": {
          "base_uri": "https://localhost:8080/"
        },
        "outputId": "f706c03b-6c41-4b31-8fc6-25fdd6748218",
        "id": "mKtHz8ZHXlzR"
      },
      "execution_count": 226,
      "outputs": [
        {
          "output_type": "execute_result",
          "data": {
            "text/plain": [
              "Pipeline(steps=[('columntransformer',\n",
              "                 ColumnTransformer(remainder='passthrough',\n",
              "                                   transformers=[('pipeline-1',\n",
              "                                                  Pipeline(steps=[('standardscaler',\n",
              "                                                                   StandardScaler())]),\n",
              "                                                  <sklearn.compose._column_transformer.make_column_selector object at 0x7f3c8769fa50>),\n",
              "                                                 ('pipeline-2',\n",
              "                                                  Pipeline(steps=[('onehotencoder',\n",
              "                                                                   OneHotEncoder(handle_unknown='ignore'))]),\n",
              "                                                  <sklearn.compose._column_transformer.make_column_selector object at 0x7f3c876ca810>)])),\n",
              "                ('randomforestregressor',\n",
              "                 RandomForestRegressor(random_state=42))])"
            ]
          },
          "metadata": {},
          "execution_count": 226
        }
      ]
    },
    {
      "cell_type": "code",
      "source": [
        "train_rf_pred = rf_reg_pipe.predict(X_train)\n",
        "test_rf_pred = rf_reg_pipe.predict(X_test)"
      ],
      "metadata": {
        "id": "-3eMbge7XlzS"
      },
      "execution_count": 227,
      "outputs": []
    },
    {
      "cell_type": "code",
      "source": [
        "#get the score of the model\n",
        "print(f'Train Score')\n",
        "eval_regression(y_train, train_rf_pred)\n",
        "print(f'\\n')\n",
        "print(f'Test Score')\n",
        "eval_regression(y_test, test_rf_pred)"
      ],
      "metadata": {
        "colab": {
          "base_uri": "https://localhost:8080/"
        },
        "id": "OqFLoCYsYLnT",
        "outputId": "29323363-4d94-4b2f-8d71-86e0293dd05b"
      },
      "execution_count": 228,
      "outputs": [
        {
          "output_type": "stream",
          "name": "stdout",
          "text": [
            "Train Score\n",
            "MAE 58.22174200873303,\n",
            "MSE 19047.736017455056,\n",
            "RMSE: 138.01353563131065,\n",
            "R^2: 0.8238731882733735 \n",
            "\n",
            "\n",
            "Test Score\n",
            "MAE 115.08477144592095,\n",
            "MSE 191868.23020957632,\n",
            "RMSE: 438.02765918327157,\n",
            "R^2: -1.2960422475743236 \n"
          ]
        }
      ]
    },
    {
      "cell_type": "markdown",
      "source": [
        "###Random Tree - Tuned"
      ],
      "metadata": {
        "id": "5puG-qeFdUW_"
      }
    },
    {
      "cell_type": "code",
      "source": [
        "rf_reg_pipe.get_params()"
      ],
      "metadata": {
        "id": "fk-pvQhFdXk1"
      },
      "execution_count": null,
      "outputs": []
    },
    {
      "cell_type": "code",
      "source": [
        "rf_pipe_param_grid = {'randomforestregressor__max_depth': range(1,15),\n",
        "              'randomforestregressor__n_estimators': [100, 150, 200, 250]}"
      ],
      "metadata": {
        "id": "sBoH1PdfdXk1"
      },
      "execution_count": 230,
      "outputs": []
    },
    {
      "cell_type": "code",
      "source": [
        "rf_reg_pipe_gs = GridSearchCV(rf_reg_pipe, rf_pipe_param_grid)\n",
        "\n",
        "rf_reg_pipe_gs.fit(X_train, y_train)\n",
        "print('Best Lin Reg Parameter:')\n",
        "print(rf_reg_pipe_gs.best_params_)"
      ],
      "metadata": {
        "colab": {
          "base_uri": "https://localhost:8080/"
        },
        "outputId": "36ceb424-c7fa-47d3-f3e5-1538d7210f3b",
        "id": "TcKPHzwmdXk2"
      },
      "execution_count": 231,
      "outputs": [
        {
          "output_type": "stream",
          "name": "stdout",
          "text": [
            "Best Lin Reg Parameter:\n",
            "{'randomforestregressor__max_depth': 4, 'randomforestregressor__n_estimators': 100}\n"
          ]
        }
      ]
    },
    {
      "cell_type": "code",
      "source": [
        "#Applying the new parameter\n",
        "rf_reg_tuned = RandomForestRegressor(max_depth = 4, n_estimators = 100, random_state = 42)"
      ],
      "metadata": {
        "id": "e693Cc-edXk2"
      },
      "execution_count": 232,
      "outputs": []
    },
    {
      "cell_type": "code",
      "source": [
        "#making the pipeline\n",
        "rf_reg_tuned_pipe = make_pipeline(col_transformer, rf_reg_tuned)"
      ],
      "metadata": {
        "id": "AXHjPYK4dXk2"
      },
      "execution_count": 233,
      "outputs": []
    },
    {
      "cell_type": "code",
      "source": [
        "#Fitting the model\n",
        "rf_reg_tuned_pipe.fit(X_train, y_train)"
      ],
      "metadata": {
        "colab": {
          "base_uri": "https://localhost:8080/"
        },
        "outputId": "b37a14f9-9f91-4043-85eb-2c3505b2ba86",
        "id": "MTQEcaURdXk2"
      },
      "execution_count": 234,
      "outputs": [
        {
          "output_type": "execute_result",
          "data": {
            "text/plain": [
              "Pipeline(steps=[('columntransformer',\n",
              "                 ColumnTransformer(remainder='passthrough',\n",
              "                                   transformers=[('pipeline-1',\n",
              "                                                  Pipeline(steps=[('standardscaler',\n",
              "                                                                   StandardScaler())]),\n",
              "                                                  <sklearn.compose._column_transformer.make_column_selector object at 0x7f3c8769fa50>),\n",
              "                                                 ('pipeline-2',\n",
              "                                                  Pipeline(steps=[('onehotencoder',\n",
              "                                                                   OneHotEncoder(handle_unknown='ignore'))]),\n",
              "                                                  <sklearn.compose._column_transformer.make_column_selector object at 0x7f3c876ca810>)])),\n",
              "                ('randomforestregressor',\n",
              "                 RandomForestRegressor(max_depth=4, random_state=42))])"
            ]
          },
          "metadata": {},
          "execution_count": 234
        }
      ]
    },
    {
      "cell_type": "code",
      "source": [
        "train_rf_tuned_pred = rf_reg_tuned_pipe.predict(X_train)\n",
        "test_rf_tuned_pred = rf_reg_tuned_pipe.predict(X_test)"
      ],
      "metadata": {
        "id": "m01uJgWzdXk2"
      },
      "execution_count": 235,
      "outputs": []
    },
    {
      "cell_type": "code",
      "source": [
        "#get the score of the model\n",
        "print(f'Train Score')\n",
        "eval_regression(y_train, train_rf_tuned_pred)\n",
        "print(f'\\n')\n",
        "print(f'Test Score')\n",
        "eval_regression(y_test, test_rf_tuned_pred)"
      ],
      "metadata": {
        "colab": {
          "base_uri": "https://localhost:8080/"
        },
        "outputId": "be50fe6a-33de-4181-e2ec-52c5a161cd3d",
        "id": "PurGCNpFdXk2"
      },
      "execution_count": 236,
      "outputs": [
        {
          "output_type": "stream",
          "name": "stdout",
          "text": [
            "Train Score\n",
            "MAE 80.5916060545525,\n",
            "MSE 29696.10619995261,\n",
            "RMSE: 172.32558196609293,\n",
            "R^2: 0.7254119596733172 \n",
            "\n",
            "\n",
            "Test Score\n",
            "MAE 114.65264143992941,\n",
            "MSE 194022.88470039025,\n",
            "RMSE: 440.4802886627167,\n",
            "R^2: -1.321826494056562 \n"
          ]
        }
      ]
    },
    {
      "cell_type": "markdown",
      "source": [
        "####Random Tree - Reduced Features"
      ],
      "metadata": {
        "id": "XtWYSGBUoabO"
      }
    },
    {
      "cell_type": "code",
      "source": [
        "#Applying the new parameter\n",
        "rf_reg_tuned_r = RandomForestRegressor(max_depth = 4, n_estimators = 100, random_state = 42)"
      ],
      "metadata": {
        "id": "tSsAPs--ofKf"
      },
      "execution_count": 237,
      "outputs": []
    },
    {
      "cell_type": "code",
      "source": [
        "#making the pipeline\n",
        "rf_reg_tuned_r_pipe = make_pipeline(col_transformer, rf_reg_tuned_r)"
      ],
      "metadata": {
        "id": "zaEwKeL5ofKf"
      },
      "execution_count": 238,
      "outputs": []
    },
    {
      "cell_type": "code",
      "source": [
        "#Fitting the model\n",
        "rf_reg_tuned_r_pipe.fit(B_train, a_train)"
      ],
      "metadata": {
        "colab": {
          "base_uri": "https://localhost:8080/"
        },
        "outputId": "1dd320cc-31cc-486c-ff93-86f392a4e323",
        "id": "n3iLzqYzofKf"
      },
      "execution_count": 239,
      "outputs": [
        {
          "output_type": "execute_result",
          "data": {
            "text/plain": [
              "Pipeline(steps=[('columntransformer',\n",
              "                 ColumnTransformer(remainder='passthrough',\n",
              "                                   transformers=[('pipeline-1',\n",
              "                                                  Pipeline(steps=[('standardscaler',\n",
              "                                                                   StandardScaler())]),\n",
              "                                                  <sklearn.compose._column_transformer.make_column_selector object at 0x7f3c8769fa50>),\n",
              "                                                 ('pipeline-2',\n",
              "                                                  Pipeline(steps=[('onehotencoder',\n",
              "                                                                   OneHotEncoder(handle_unknown='ignore'))]),\n",
              "                                                  <sklearn.compose._column_transformer.make_column_selector object at 0x7f3c876ca810>)])),\n",
              "                ('randomforestregressor',\n",
              "                 RandomForestRegressor(max_depth=4, random_state=42))])"
            ]
          },
          "metadata": {},
          "execution_count": 239
        }
      ]
    },
    {
      "cell_type": "code",
      "source": [
        "train_rf_tuned_r_pred = rf_reg_tuned_r_pipe.predict(B_train)\n",
        "test_rf_tuned_r_pred = rf_reg_tuned_r_pipe.predict(B_test)"
      ],
      "metadata": {
        "id": "0FrRusNvofKg"
      },
      "execution_count": 240,
      "outputs": []
    },
    {
      "cell_type": "code",
      "source": [
        "#get the score of the model\n",
        "print(f'Train Score')\n",
        "eval_regression(a_train, train_rf_tuned_r_pred)\n",
        "print(f'\\n')\n",
        "print(f'Test Score')\n",
        "eval_regression(a_test, test_rf_tuned_r_pred)"
      ],
      "metadata": {
        "colab": {
          "base_uri": "https://localhost:8080/"
        },
        "outputId": "2559618a-cefd-4ea6-a393-126253188433",
        "id": "RuYfSbaWofKg"
      },
      "execution_count": 241,
      "outputs": [
        {
          "output_type": "stream",
          "name": "stdout",
          "text": [
            "Train Score\n",
            "MAE 85.44111923525585,\n",
            "MSE 54078.209185620886,\n",
            "RMSE: 232.5472192601341,\n",
            "R^2: 0.4999603858946411 \n",
            "\n",
            "\n",
            "Test Score\n",
            "MAE 116.22162666177816,\n",
            "MSE 186288.4013071083,\n",
            "RMSE: 431.61140080761106,\n",
            "R^2: -1.2292697397948498 \n"
          ]
        }
      ]
    },
    {
      "cell_type": "markdown",
      "source": [
        "##KNeighbors"
      ],
      "metadata": {
        "id": "hJNzldxeYpgt"
      }
    },
    {
      "cell_type": "code",
      "source": [
        "kn_reg = KNeighborsRegressor()"
      ],
      "metadata": {
        "id": "7b2dXCJEYwSJ"
      },
      "execution_count": 242,
      "outputs": []
    },
    {
      "cell_type": "code",
      "source": [
        "#making the pipeline\n",
        "kn_reg_pipe = make_pipeline(col_transformer, kn_reg)"
      ],
      "metadata": {
        "id": "f6vHkwkYYwSK"
      },
      "execution_count": 243,
      "outputs": []
    },
    {
      "cell_type": "code",
      "source": [
        "#Fitting the model\n",
        "kn_reg_pipe.fit(X_train, y_train)"
      ],
      "metadata": {
        "colab": {
          "base_uri": "https://localhost:8080/"
        },
        "outputId": "e1810cc3-ff88-4a51-d960-02bca0694315",
        "id": "Dwtfb8YTYwSK"
      },
      "execution_count": 244,
      "outputs": [
        {
          "output_type": "execute_result",
          "data": {
            "text/plain": [
              "Pipeline(steps=[('columntransformer',\n",
              "                 ColumnTransformer(remainder='passthrough',\n",
              "                                   transformers=[('pipeline-1',\n",
              "                                                  Pipeline(steps=[('standardscaler',\n",
              "                                                                   StandardScaler())]),\n",
              "                                                  <sklearn.compose._column_transformer.make_column_selector object at 0x7f3c8769fa50>),\n",
              "                                                 ('pipeline-2',\n",
              "                                                  Pipeline(steps=[('onehotencoder',\n",
              "                                                                   OneHotEncoder(handle_unknown='ignore'))]),\n",
              "                                                  <sklearn.compose._column_transformer.make_column_selector object at 0x7f3c876ca810>)])),\n",
              "                ('kneighborsregressor', KNeighborsRegressor())])"
            ]
          },
          "metadata": {},
          "execution_count": 244
        }
      ]
    },
    {
      "cell_type": "code",
      "source": [
        "train_kn_pred = kn_reg_pipe.predict(X_train)\n",
        "test_kn_pred = kn_reg_pipe.predict(X_test)"
      ],
      "metadata": {
        "id": "TRArFg4GYwSK"
      },
      "execution_count": 245,
      "outputs": []
    },
    {
      "cell_type": "code",
      "source": [
        "#get the score of the model\n",
        "print(f'Train Score')\n",
        "eval_regression(y_train, train_kn_pred)\n",
        "print(f'\\n')\n",
        "print(f'Test Score')\n",
        "eval_regression(y_test, test_kn_pred)"
      ],
      "metadata": {
        "colab": {
          "base_uri": "https://localhost:8080/"
        },
        "outputId": "91310a3b-d086-49f5-9571-889b492e1334",
        "id": "iwWrHMoJYwSK"
      },
      "execution_count": 246,
      "outputs": [
        {
          "output_type": "stream",
          "name": "stdout",
          "text": [
            "Train Score\n",
            "MAE 77.26914765906362,\n",
            "MSE 62220.781176470584,\n",
            "RMSE: 249.4409372506257,\n",
            "R^2: 0.42466927294091916 \n",
            "\n",
            "\n",
            "Test Score\n",
            "MAE 101.54820143884892,\n",
            "MSE 84118.44489208634,\n",
            "RMSE: 290.0317997945852,\n",
            "R^2: -0.006625761135743646 \n"
          ]
        }
      ]
    },
    {
      "cell_type": "markdown",
      "source": [
        "###KNeighbors - Tuned"
      ],
      "metadata": {
        "id": "Eu3J5pMZjK5T"
      }
    },
    {
      "cell_type": "code",
      "source": [
        "kn_reg_pipe.get_params()"
      ],
      "metadata": {
        "id": "41OjFmDhjJO1"
      },
      "execution_count": null,
      "outputs": []
    },
    {
      "cell_type": "code",
      "source": [
        "kn_pipe_param_grid = {'kneighborsregressor__n_neighbors':  range(10,50),\n",
        "                      'kneighborsregressor__p': [1,2],\n",
        "                      'kneighborsregressor__weights': ['uniform','distance']}"
      ],
      "metadata": {
        "id": "K6uuAOMxjJO1"
      },
      "execution_count": 248,
      "outputs": []
    },
    {
      "cell_type": "code",
      "source": [
        "#find the best parameter\n",
        "kn_reg_pipe_gs = GridSearchCV(kn_reg_pipe, kn_pipe_param_grid)\n",
        "\n",
        "kn_reg_pipe_gs.fit(X_train, y_train)\n",
        "print('Best kn Reg Parameter:')\n",
        "print(kn_reg_pipe_gs.best_params_)"
      ],
      "metadata": {
        "colab": {
          "base_uri": "https://localhost:8080/"
        },
        "outputId": "96c3f58e-b455-444f-edf3-dfde5fd400c1",
        "id": "1N-zC48HjJO1"
      },
      "execution_count": 249,
      "outputs": [
        {
          "output_type": "stream",
          "name": "stdout",
          "text": [
            "Best kn Reg Parameter:\n",
            "{'kneighborsregressor__n_neighbors': 23, 'kneighborsregressor__p': 1, 'kneighborsregressor__weights': 'uniform'}\n"
          ]
        }
      ]
    },
    {
      "cell_type": "code",
      "source": [
        "#Applying the new parameter\n",
        "kn_reg_tuned = KNeighborsRegressor(n_neighbors = 23, p = 1, weights = 'uniform')"
      ],
      "metadata": {
        "id": "8Vc-tRP6jJO1"
      },
      "execution_count": 250,
      "outputs": []
    },
    {
      "cell_type": "code",
      "source": [
        "#making the pipeline\n",
        "kn_reg_tuned_pipe = make_pipeline(col_transformer, kn_reg_tuned)"
      ],
      "metadata": {
        "id": "cNVzh89-jJO1"
      },
      "execution_count": 251,
      "outputs": []
    },
    {
      "cell_type": "code",
      "source": [
        "#Fitting the model\n",
        "kn_reg_tuned_pipe.fit(X_train, y_train)"
      ],
      "metadata": {
        "colab": {
          "base_uri": "https://localhost:8080/"
        },
        "outputId": "fad323d7-7680-4622-d800-96f67e361590",
        "id": "pRK7egNEjJO2"
      },
      "execution_count": 252,
      "outputs": [
        {
          "output_type": "execute_result",
          "data": {
            "text/plain": [
              "Pipeline(steps=[('columntransformer',\n",
              "                 ColumnTransformer(remainder='passthrough',\n",
              "                                   transformers=[('pipeline-1',\n",
              "                                                  Pipeline(steps=[('standardscaler',\n",
              "                                                                   StandardScaler())]),\n",
              "                                                  <sklearn.compose._column_transformer.make_column_selector object at 0x7f3c8769fa50>),\n",
              "                                                 ('pipeline-2',\n",
              "                                                  Pipeline(steps=[('onehotencoder',\n",
              "                                                                   OneHotEncoder(handle_unknown='ignore'))]),\n",
              "                                                  <sklearn.compose._column_transformer.make_column_selector object at 0x7f3c876ca810>)])),\n",
              "                ('kneighborsregressor',\n",
              "                 KNeighborsRegressor(n_neighbors=23, p=1))])"
            ]
          },
          "metadata": {},
          "execution_count": 252
        }
      ]
    },
    {
      "cell_type": "code",
      "source": [
        "train_kn_tuned_pred = kn_reg_tuned_pipe.predict(X_train)\n",
        "test_kn_tuned_pred = kn_reg_tuned_pipe.predict(X_test)"
      ],
      "metadata": {
        "id": "a-jS7C2ijJO2"
      },
      "execution_count": 253,
      "outputs": []
    },
    {
      "cell_type": "code",
      "source": [
        "#get the scores of the model\n",
        "print(f'Train Score')\n",
        "eval_regression(y_train, train_kn_tuned_pred)\n",
        "print(f'\\n')\n",
        "print(f'Test Score')\n",
        "eval_regression(y_test, test_kn_tuned_pred)"
      ],
      "metadata": {
        "colab": {
          "base_uri": "https://localhost:8080/"
        },
        "outputId": "e04a9e3e-1c21-4692-d7fd-0951faa6db0d",
        "id": "qmpou3G7jJO2"
      },
      "execution_count": 254,
      "outputs": [
        {
          "output_type": "stream",
          "name": "stdout",
          "text": [
            "Train Score\n",
            "MAE 78.76097395479933,\n",
            "MSE 78583.23369309916,\n",
            "RMSE: 280.32701206465845,\n",
            "R^2: 0.27337220586999755 \n",
            "\n",
            "\n",
            "Test Score\n",
            "MAE 88.00132937128558,\n",
            "MSE 63338.127806639364,\n",
            "RMSE: 251.6706733146303,\n",
            "R^2: 0.24204743449472 \n"
          ]
        }
      ]
    },
    {
      "cell_type": "markdown",
      "source": [
        "####KNeighbors - Reduced Features"
      ],
      "metadata": {
        "id": "hn4egZj5ru1_"
      }
    },
    {
      "cell_type": "code",
      "source": [
        "#Applying the new parameter\n",
        "kn_reg_tuned_r = KNeighborsRegressor(n_neighbors = 23, p = 1, weights = 'uniform')"
      ],
      "metadata": {
        "id": "GLou4ZPeru2A"
      },
      "execution_count": 255,
      "outputs": []
    },
    {
      "cell_type": "code",
      "source": [
        "#making the pipeline\n",
        "kn_reg_tuned_r_pipe = make_pipeline(col_transformer, kn_reg_tuned_r)"
      ],
      "metadata": {
        "id": "MmviYVIbru2A"
      },
      "execution_count": 256,
      "outputs": []
    },
    {
      "cell_type": "code",
      "source": [
        "#Fitting the model\n",
        "kn_reg_tuned_r_pipe.fit(B_train, a_train)"
      ],
      "metadata": {
        "colab": {
          "base_uri": "https://localhost:8080/"
        },
        "outputId": "8a6b49ff-23ea-49a6-e17d-f3b36c708804",
        "id": "gabbx24Bru2A"
      },
      "execution_count": 257,
      "outputs": [
        {
          "output_type": "execute_result",
          "data": {
            "text/plain": [
              "Pipeline(steps=[('columntransformer',\n",
              "                 ColumnTransformer(remainder='passthrough',\n",
              "                                   transformers=[('pipeline-1',\n",
              "                                                  Pipeline(steps=[('standardscaler',\n",
              "                                                                   StandardScaler())]),\n",
              "                                                  <sklearn.compose._column_transformer.make_column_selector object at 0x7f3c8769fa50>),\n",
              "                                                 ('pipeline-2',\n",
              "                                                  Pipeline(steps=[('onehotencoder',\n",
              "                                                                   OneHotEncoder(handle_unknown='ignore'))]),\n",
              "                                                  <sklearn.compose._column_transformer.make_column_selector object at 0x7f3c876ca810>)])),\n",
              "                ('kneighborsregressor',\n",
              "                 KNeighborsRegressor(n_neighbors=23, p=1))])"
            ]
          },
          "metadata": {},
          "execution_count": 257
        }
      ]
    },
    {
      "cell_type": "code",
      "source": [
        "train_kn_tuned_r_pred = kn_reg_tuned_r_pipe.predict(B_train)\n",
        "test_kn_tuned_r_pred = kn_reg_tuned_r_pipe.predict(B_test)"
      ],
      "metadata": {
        "id": "oaAtTuhpru2A"
      },
      "execution_count": 258,
      "outputs": []
    },
    {
      "cell_type": "code",
      "source": [
        "print(f'Train Score')\n",
        "eval_regression(a_train, train_kn_tuned_r_pred)\n",
        "print(f'\\n')\n",
        "print(f'Test Score')\n",
        "eval_regression(a_test, test_kn_tuned_r_pred)"
      ],
      "metadata": {
        "colab": {
          "base_uri": "https://localhost:8080/"
        },
        "outputId": "5a31f676-191a-4c33-9bf7-937ff56b312f",
        "id": "wgjRLoe5ru2A"
      },
      "execution_count": 259,
      "outputs": [
        {
          "output_type": "stream",
          "name": "stdout",
          "text": [
            "Train Score\n",
            "MAE 82.68299493710529,\n",
            "MSE 80253.2545165514,\n",
            "RMSE: 283.29005368447264,\n",
            "R^2: 0.25793018993266115 \n",
            "\n",
            "\n",
            "Test Score\n",
            "MAE 90.43869252424147,\n",
            "MSE 63724.46292040094,\n",
            "RMSE: 252.43704744034886,\n",
            "R^2: 0.23742425252264943 \n"
          ]
        }
      ]
    },
    {
      "cell_type": "markdown",
      "source": [
        "#Chosen Production Model"
      ],
      "metadata": {
        "id": "g4_0Rdkyte1A"
      }
    },
    {
      "cell_type": "markdown",
      "source": [
        "Based on the score above, I've decided to choose KNeighbors as my chosen regressor model. Across the three models, KNeighbors model yielded the lowest MAE score as well as the lowest RMSE score. The reason I prioritized MAE and RMSE is because this is a price prediction and the lower the difference between prediction than the actual target the better. In the case of KNeighbors model, the score was less than 100. I've also tested the model with reduced feature to see if the score had improved. However, since there weren't a lot of features to in the dataset to begin with, it appears that reducing the number of features made the model less effective. *Please refer to the read me for all score comparison.*"
      ],
      "metadata": {
        "id": "FWmZz6YDtiX1"
      }
    }
  ]
}